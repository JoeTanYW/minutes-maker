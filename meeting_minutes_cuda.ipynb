{
 "cells": [
  {
   "cell_type": "markdown",
   "id": "a11f57399170090d",
   "metadata": {
    "collapsed": false
   },
   "source": [
    "# Sample Minutes Structure\n",
    "\n",
    "## 1. Opening Details\n",
    "This section sets the groundwork for the document, providing a snapshot of the meeting’s logistical details. It includes:\n",
    "\n",
    "- **Meeting Title:** The official name or subject of the meeting.\n",
    "- **Date and Time:** When the meeting took place.\n",
    "- **Location:** Where the meeting was held, including virtual meeting links if applicable.\n",
    "- **Attendees:** A list of individuals present at the meeting, including their titles or roles. Distinguish between members, guests, and absentees.\n",
    "- **Chairperson:** The individual presiding over the meeting.\n",
    "- **Secretary:** The person responsible for taking minutes.\n",
    "\n",
    "## 2. Agenda Items\n",
    "Following the opening details, this section outlines all the items discussed during the meeting. Each agenda item should be presented as a separate sub-section that includes:\n",
    "\n",
    "- **Item Title:** A brief title describing the agenda item.\n",
    "- **Presenter:** The name of the person who presented the item.\n",
    "- **Discussion Summary:** A concise summary of the discussion points, capturing the essence of what was talked about without delving into excessive detail.\n",
    "- **Action Items:** Specific actions to be taken, who is responsible for them, and any deadlines.\n",
    "\n",
    "## 3. Decisions Made\n",
    "This critical section documents the decisions reached during the meeting. For each decision, include:\n",
    "\n",
    "- **Decision Title:** A short, descriptive title of the decision.\n",
    "- **Description:** A brief explanation of the decision made.\n",
    "- **Responsible Party:** The person(s) or department(s) responsible for implementing the decision.\n",
    "- **Deadline:** If applicable, the timeline for implementation or review.\n",
    "\n",
    "## 4. Action Items\n",
    "Building on the decisions made, this section lists all the action items identified during the meeting, including those mentioned under agenda items but providing more detail. Each action item should specify:\n",
    "\n",
    "- **Action to be Taken:** A clear description of the task.\n",
    "- **Assigned To:** The individual(s) responsible for completing the action.\n",
    "- **Deadline:** The date by which the action should be completed.\n",
    "- **Status:** Initial status (typically \"Assigned\" or \"In Progress\").\n",
    "\n",
    "## 5. Closing Summary\n",
    "The final section wraps up the meeting minutes, providing a succinct summary of the meeting's outcomes and highlighting any next steps. This section includes:\n",
    "\n",
    "- **a. Meeting Adjournment:** The time the meeting concluded.\n",
    "- **b. Next Meeting:** Date, time, and location of the next scheduled meeting, if known.\n",
    "- **c. Closing Remarks:** Any final thoughts or comments from the chairperson, emphasizing the importance of the decisions made and the next steps.\n"
   ]
  },
  {
   "cell_type": "code",
   "execution_count": 1,
   "id": "1fa373363d56fb48",
   "metadata": {
    "collapsed": false,
    "ExecuteTime": {
     "end_time": "2024-03-25T13:51:11.349263Z",
     "start_time": "2024-03-25T13:51:09.587327Z"
    }
   },
   "outputs": [
    {
     "name": "stdout",
     "output_type": "stream",
     "text": [
      "Requirement already satisfied: openai in /home/justin/miniconda3/envs/minutes_gpt/lib/python3.10/site-packages (1.14.2)\r\n",
      "Requirement already satisfied: python-dotenv in /home/justin/miniconda3/envs/minutes_gpt/lib/python3.10/site-packages (1.0.1)\r\n",
      "Requirement already satisfied: faster-whisper in /home/justin/miniconda3/envs/minutes_gpt/lib/python3.10/site-packages (1.0.1)\r\n",
      "Requirement already satisfied: anyio<5,>=3.5.0 in /home/justin/miniconda3/envs/minutes_gpt/lib/python3.10/site-packages (from openai) (4.3.0)\r\n",
      "Requirement already satisfied: distro<2,>=1.7.0 in /home/justin/miniconda3/envs/minutes_gpt/lib/python3.10/site-packages (from openai) (1.9.0)\r\n",
      "Requirement already satisfied: httpx<1,>=0.23.0 in /home/justin/miniconda3/envs/minutes_gpt/lib/python3.10/site-packages (from openai) (0.27.0)\r\n",
      "Requirement already satisfied: pydantic<3,>=1.9.0 in /home/justin/miniconda3/envs/minutes_gpt/lib/python3.10/site-packages (from openai) (2.6.4)\r\n",
      "Requirement already satisfied: sniffio in /home/justin/miniconda3/envs/minutes_gpt/lib/python3.10/site-packages (from openai) (1.3.1)\r\n",
      "Requirement already satisfied: tqdm>4 in /home/justin/miniconda3/envs/minutes_gpt/lib/python3.10/site-packages (from openai) (4.66.2)\r\n",
      "Requirement already satisfied: typing-extensions<5,>=4.7 in /home/justin/miniconda3/envs/minutes_gpt/lib/python3.10/site-packages (from openai) (4.10.0)\r\n",
      "Requirement already satisfied: av==11.* in /home/justin/miniconda3/envs/minutes_gpt/lib/python3.10/site-packages (from faster-whisper) (11.0.0)\r\n",
      "Requirement already satisfied: ctranslate2<5,>=4.0 in /home/justin/miniconda3/envs/minutes_gpt/lib/python3.10/site-packages (from faster-whisper) (4.1.0)\r\n",
      "Requirement already satisfied: huggingface-hub>=0.13 in /home/justin/miniconda3/envs/minutes_gpt/lib/python3.10/site-packages (from faster-whisper) (0.21.4)\r\n",
      "Requirement already satisfied: tokenizers<0.16,>=0.13 in /home/justin/miniconda3/envs/minutes_gpt/lib/python3.10/site-packages (from faster-whisper) (0.15.2)\r\n",
      "Requirement already satisfied: onnxruntime<2,>=1.14 in /home/justin/miniconda3/envs/minutes_gpt/lib/python3.10/site-packages (from faster-whisper) (1.17.1)\r\n",
      "Requirement already satisfied: idna>=2.8 in /home/justin/miniconda3/envs/minutes_gpt/lib/python3.10/site-packages (from anyio<5,>=3.5.0->openai) (3.6)\r\n",
      "Requirement already satisfied: exceptiongroup>=1.0.2 in /home/justin/miniconda3/envs/minutes_gpt/lib/python3.10/site-packages (from anyio<5,>=3.5.0->openai) (1.2.0)\r\n",
      "Requirement already satisfied: setuptools in /home/justin/miniconda3/envs/minutes_gpt/lib/python3.10/site-packages (from ctranslate2<5,>=4.0->faster-whisper) (68.2.2)\r\n",
      "Requirement already satisfied: numpy in /home/justin/miniconda3/envs/minutes_gpt/lib/python3.10/site-packages (from ctranslate2<5,>=4.0->faster-whisper) (1.26.4)\r\n",
      "Requirement already satisfied: pyyaml<7,>=5.3 in /home/justin/miniconda3/envs/minutes_gpt/lib/python3.10/site-packages (from ctranslate2<5,>=4.0->faster-whisper) (6.0.1)\r\n",
      "Requirement already satisfied: certifi in /home/justin/miniconda3/envs/minutes_gpt/lib/python3.10/site-packages (from httpx<1,>=0.23.0->openai) (2024.2.2)\r\n",
      "Requirement already satisfied: httpcore==1.* in /home/justin/miniconda3/envs/minutes_gpt/lib/python3.10/site-packages (from httpx<1,>=0.23.0->openai) (1.0.4)\r\n",
      "Requirement already satisfied: h11<0.15,>=0.13 in /home/justin/miniconda3/envs/minutes_gpt/lib/python3.10/site-packages (from httpcore==1.*->httpx<1,>=0.23.0->openai) (0.14.0)\r\n",
      "Requirement already satisfied: filelock in /home/justin/miniconda3/envs/minutes_gpt/lib/python3.10/site-packages (from huggingface-hub>=0.13->faster-whisper) (3.9.0)\r\n",
      "Requirement already satisfied: fsspec>=2023.5.0 in /home/justin/miniconda3/envs/minutes_gpt/lib/python3.10/site-packages (from huggingface-hub>=0.13->faster-whisper) (2024.3.1)\r\n",
      "Requirement already satisfied: requests in /home/justin/miniconda3/envs/minutes_gpt/lib/python3.10/site-packages (from huggingface-hub>=0.13->faster-whisper) (2.31.0)\r\n",
      "Requirement already satisfied: packaging>=20.9 in /home/justin/miniconda3/envs/minutes_gpt/lib/python3.10/site-packages (from huggingface-hub>=0.13->faster-whisper) (24.0)\r\n",
      "Requirement already satisfied: coloredlogs in /home/justin/miniconda3/envs/minutes_gpt/lib/python3.10/site-packages (from onnxruntime<2,>=1.14->faster-whisper) (15.0.1)\r\n",
      "Requirement already satisfied: flatbuffers in /home/justin/miniconda3/envs/minutes_gpt/lib/python3.10/site-packages (from onnxruntime<2,>=1.14->faster-whisper) (24.3.7)\r\n",
      "Requirement already satisfied: protobuf in /home/justin/miniconda3/envs/minutes_gpt/lib/python3.10/site-packages (from onnxruntime<2,>=1.14->faster-whisper) (5.26.0)\r\n",
      "Requirement already satisfied: sympy in /home/justin/miniconda3/envs/minutes_gpt/lib/python3.10/site-packages (from onnxruntime<2,>=1.14->faster-whisper) (1.12)\r\n",
      "Requirement already satisfied: annotated-types>=0.4.0 in /home/justin/miniconda3/envs/minutes_gpt/lib/python3.10/site-packages (from pydantic<3,>=1.9.0->openai) (0.6.0)\r\n",
      "Requirement already satisfied: pydantic-core==2.16.3 in /home/justin/miniconda3/envs/minutes_gpt/lib/python3.10/site-packages (from pydantic<3,>=1.9.0->openai) (2.16.3)\r\n",
      "Requirement already satisfied: humanfriendly>=9.1 in /home/justin/miniconda3/envs/minutes_gpt/lib/python3.10/site-packages (from coloredlogs->onnxruntime<2,>=1.14->faster-whisper) (10.0)\r\n",
      "Requirement already satisfied: charset-normalizer<4,>=2 in /home/justin/miniconda3/envs/minutes_gpt/lib/python3.10/site-packages (from requests->huggingface-hub>=0.13->faster-whisper) (3.3.2)\r\n",
      "Requirement already satisfied: urllib3<3,>=1.21.1 in /home/justin/miniconda3/envs/minutes_gpt/lib/python3.10/site-packages (from requests->huggingface-hub>=0.13->faster-whisper) (2.2.1)\r\n",
      "Requirement already satisfied: mpmath>=0.19 in /home/justin/miniconda3/envs/minutes_gpt/lib/python3.10/site-packages (from sympy->onnxruntime<2,>=1.14->faster-whisper) (1.3.0)\r\n"
     ]
    }
   ],
   "source": [
    "!pip install openai python-dotenv faster-whisper"
   ]
  },
  {
   "cell_type": "code",
   "execution_count": 2,
   "id": "232f608d30239f2e",
   "metadata": {
    "collapsed": false,
    "ExecuteTime": {
     "end_time": "2024-03-25T13:51:12.071575Z",
     "start_time": "2024-03-25T13:51:11.351979Z"
    }
   },
   "outputs": [],
   "source": [
    "import threading\n",
    "import time\n",
    "import dotenv\n",
    "from openai import AzureOpenAI\n",
    "\n",
    "DEPLOYMENT = dotenv.get_key(dotenv.find_dotenv(), \"DEPLOYMENT\")\n",
    "ENDPOINT = dotenv.get_key(dotenv.find_dotenv(), \"ENDPOINT\")\n",
    "KEY = dotenv.get_key(dotenv.find_dotenv(), \"KEY\")\n",
    "VERSION = dotenv.get_key(dotenv.find_dotenv(), \"VERSION\")\n",
    "# gets the API Key from environment variable AZURE_OPENAI_API_KEY\n",
    "client = AzureOpenAI(\n",
    "\t# https://learn.microsoft.com/en-us/azure/ai-services/openai/reference#rest-api-versioning\n",
    "\tapi_version=VERSION,\n",
    "\t# https://learn.microsoft.com/en-us/azure/cognitive-services/openai/how-to/create-resource?pivots=web-portal#create-a-resource\n",
    "\tazure_endpoint=ENDPOINT,\n",
    "\tapi_key=KEY\n",
    "\n",
    ")"
   ]
  },
  {
   "cell_type": "code",
   "execution_count": 3,
   "id": "7f2310369cc7c223",
   "metadata": {
    "collapsed": false,
    "ExecuteTime": {
     "end_time": "2024-03-25T13:51:12.082301Z",
     "start_time": "2024-03-25T13:51:12.073404Z"
    }
   },
   "outputs": [],
   "source": [
    "# System prompts for each agent\n",
    "\n",
    "section_1 = \\\n",
    "\t\"\"\"\n",
    "\tInstructions for Writing Section 1: Opening Details with Detailed Information\n",
    "\t\n",
    "\t1. **Document Title and Header**: Start your document by labeling it as \"Meeting Minutes\" followed by the specific name of the meeting. This title should be bold and centered at the top of the page. For example:\n",
    "\t- Meeting Minutes: Quarterly Budget Review Meeting\n",
    "\t\n",
    "\t\n",
    "\t2. **Meeting Title**:\n",
    "\t- Below the document title, write \"Meeting Title:\" and then specify the exact purpose of the meeting. Choose a title that reflects the main objective or the broad area of discussion. This helps in identifying the focus of the meeting at a glance.\n",
    "\t\n",
    "\t3. **Date and Time**:\n",
    "\t- Next line, label \"Date and Time:\". Here, you will provide when the meeting occurred. Use the format \"Month Day, Year, from HH:MM AM/PM to HH:MM AM/PM.\" For virtual meetings across different time zones, specify the primary time zone and consider noting a few others for reference.\n",
    "\t- Example: \"March 12, 2024, from 10:00 AM to 12:00 PM EST (GMT-5)\"\n",
    "\t\n",
    "\t4. **Location**:\n",
    "\t- On the following line, write \"Location:\". Indicate the physical location with a full address if it's an in-person meeting. For virtual meetings, state the platform used (e.g., Zoom, Microsoft Teams) and include the link or meeting ID. It's helpful to mention whether it's a virtual or hybrid meeting.\n",
    "\t- Example for a physical meeting: \"City Hall, Room 101, 123 Main St., Springfield\"\n",
    "\t- Example for a virtual meeting: \"Virtual - Zoom Meeting, ID: 123-456-789, Link: [Zoom Meeting Link]\"\n",
    "\t\n",
    "\t5. **Attendees**:\n",
    "\t- Introduce a new section titled \"Attendees\". Divide this section into three parts: \"Members Present,\" \"Guests,\" and \"Absentees.\"\n",
    "\t- For each person listed, include their full name, title, or role within the organization, and their department if applicable. This ensures clarity on who was involved and their capacity.\n",
    "\t- Example:\n",
    "\t  ```\n",
    "\t  Members Present: John Doe, Finance Director; Jane Smith, Budget Analyst\n",
    "\t  Guests: Alex Johnson, External Auditor\n",
    "\t  Absentees: Mike Ross, Assistant Finance Director\n",
    "\t  ```\n",
    "\t\n",
    "\t6. **Chairperson and Secretary**:\n",
    "\t- Conclude this section by identifying the Chairperson and the Secretary of the meeting. Write \"Chairperson:\" followed by the name and title of the individual who led the meeting. Then, write \"Secretary:\" followed by the name and title of the person responsible for recording the minutes.\n",
    "\t- These roles are crucial for accountability and reference, as the Chairperson guides the meeting's flow, and the Secretary ensures all discussions and decisions are accurately documented.\n",
    "\t\n",
    "\t7. **Formatting Tips**:\n",
    "\t- Use bullet points or a numbered list for the Attendees section to enhance readability.\n",
    "\t- Maintain consistency in font and formatting throughout the document. Use a clear, professional font like Times New Roman or Arial, size 12.\n",
    "\t- Ensure all names and titles are accurately spelled, and double-check the date, time, and location for correctness.\n",
    "\t\n",
    "\tBy following these detailed instructions, your Opening Details section will provide a comprehensive and clear overview of the foundational aspects of the meeting. This meticulous approach ensures that anyone reading the minutes can immediately understand the essential logistics of the meeting, setting a professional tone for the document.\n",
    "\t\n",
    "\t\"\"\"\n",
    "\n",
    "section_2 = \\\n",
    "\t\"\"\"\n",
    "\tInstructions for Writing Section 2: Agenda Items with Detailed Information\n",
    "\t\n",
    "\t1. **Section Header**:\n",
    "\t   - Start this section with a header titled \"Agenda Items.\" This indicates you're moving into the core content of the meeting, focusing on the topics discussed.\n",
    "\t\n",
    "\t2. **Itemizing Each Agenda Item**:\n",
    "\t   - List each agenda item as discussed during the meeting. Use a new sub-header for each item, which can be numbered or bulleted, depending on your preference. The title of each agenda item should be concise but descriptive enough to understand the topic at a glance.\n",
    "\t   - Example:\n",
    "\t\t ```\n",
    "\t\t 1. Budget Overview for Q2\n",
    "\t\t ```\n",
    "\t\n",
    "\t3. **Presenter**:\n",
    "\t   - For each agenda item, clearly identify the presenter or lead discussant. Write \"Presenter:\" followed by the individual's name and title. This assigns responsibility and provides a point of contact for follow-up questions.\n",
    "\t   - Example:\n",
    "\t\t ```\n",
    "\t\t Presenter: Jane Doe, Chief Financial Officer\n",
    "\t\t ```\n",
    "\t\n",
    "\t4. **Discussion Summary**:\n",
    "\t   - Beneath the presenter, provide a summary of the discussion for that agenda item. Start with \"Discussion Summary:\" and then bullet or paragraph your summary. This should capture the key points discussed, significant viewpoints expressed, and any rationale behind decisions or opinions.\n",
    "\t   - Keep it concise but informative. Avoid unnecessary detail but ensure that someone who wasn't at the meeting can grasp what was discussed.\n",
    "\t   - Example:\n",
    "\t\t ```\n",
    "\t\t Discussion Summary:\n",
    "\t\t - Reviewed the Q2 budget projections and identified potential overspending areas.\n",
    "\t\t - Discussed reallocating funds from underutilized programs to areas of higher need.\n",
    "\t\t ```\n",
    "\t\n",
    "\t5. **Action Items**:\n",
    "\t   - If any action items arise from the discussion, list these under the sub-heading \"Action Items:\". For each action, specify the task, who is responsible (assignee), and the deadline.\n",
    "\t   - Action items should be clear and actionable, with a specific outcome in mind. This clarity helps in follow-up and accountability.\n",
    "\t   - Example:\n",
    "\t\t ```\n",
    "\t\t Action Items:\n",
    "\t\t - John Smith to prepare a detailed report on potential overspending areas by April 15, 2024.\n",
    "\t\t - Finance Department to review and propose reallocation strategies by April 30, 2024.\n",
    "\t\t ```\n",
    "\t\n",
    "\t6. **Repeat for Each Agenda Item**:\n",
    "\t   - Repeat steps 2 through 5 for each agenda item discussed during the meeting. Ensure each item is clearly separated and labeled for easy navigation through the document.\n",
    "\t\n",
    "\t7. **Formatting Tips**:\n",
    "\t   - Use headings and subheadings to organize the section and each agenda item. Consider using bold or italicized text to differentiate between titles, names, and the body text.\n",
    "\t   - Bullet points are useful for summarizing discussion points and listing action items, as they enhance readability.\n",
    "\t   - Maintain a consistent structure for each agenda item to help readers quickly find information.\n",
    "\t\n",
    "\tBy following these detailed instructions, you’ll be able to accurately document the Agenda Items section of your meeting minutes. This section is vital for capturing the essence of what was discussed and ensuring that all participants and stakeholders are aware of the discussions and decisions.\n",
    "\t\n",
    "\t\"\"\"\n",
    "\n",
    "section_3 = \\\n",
    "\t\"\"\"\n",
    "\tInstructions for Writing Section 3: Decisions Made with Detailed Information\n",
    "\t\n",
    "\t1. **Section Header**:\n",
    "\t   - Begin this section with a bold header titled \"Decisions Made\" to clearly indicate that this part of the document will cover the conclusive outcomes of the discussions.\n",
    "\t\n",
    "\t2. **Listing Decisions**:\n",
    "\t   - For each decision made during the meeting, create a new sub-section. You can number these decisions for ease of reference. Each decision should have a brief, descriptive title that encapsulates the outcome.\n",
    "\t\n",
    "\t3. **Decision Title**:\n",
    "\t   - Start with \"Decision Title:\" followed by a succinct title that captures the essence of the decision. This helps readers quickly identify the decision’s subject matter.\n",
    "\t   - Example:\n",
    "\t\t ```\n",
    "\t\t Decision Title: Approval of Q2 Budget Reallocation\n",
    "\t\t ```\n",
    "\t\n",
    "\t4. **Description of the Decision**:\n",
    "\t   - Under the title, provide a detailed description of the decision. Begin with \"Description:\" and elaborate on what was decided, including any specifics that give clarity to the decision's intent, scope, and impact.\n",
    "\t   - Be precise in detailing the decision to ensure there's no ambiguity about what was agreed upon.\n",
    "\t   - Example:\n",
    "\t\t ```\n",
    "\t\t Description: The committee unanimously approved the reallocation of funds from the marketing budget to the research and development budget for Q2, increasing R&D funding by 15%.\n",
    "\t\t ```\n",
    "\t\n",
    "\t5. **Responsible Party**:\n",
    "\t   - Identify who is responsible for implementing the decision with \"Responsible Party:\". List the person or department tasked with carrying out the decision, providing clear accountability.\n",
    "\t   - Example:\n",
    "\t\t ```\n",
    "\t\t Responsible Party: John Doe, Director of Finance\n",
    "\t\t ```\n",
    "\t\n",
    "\t6. **Deadline**:\n",
    "\t   - If applicable, specify a deadline for when the decision needs to be implemented or when a follow-up is required. Use \"Deadline:\" followed by the specific date or timeframe.\n",
    "\t   - This ensures that there is a clear timeline for action and review.\n",
    "\t   - Example:\n",
    "\t\t ```\n",
    "\t\t Deadline: Implementation by April 30, 2024\n",
    "\t\t ```\n",
    "\t\n",
    "\t7. **Repeat for Each Decision**:\n",
    "\t   - Repeat steps 2 through 6 for each decision that was made during the meeting. Ensure that each decision is clearly delineated and detailed for easy understanding and reference.\n",
    "\t\n",
    "\t8. **Formatting Tips**:\n",
    "\t   - Use consistent formatting for each decision to help the reader navigate through the section easily. Consistent headers for decision title, description, responsible party, and deadline aid in readability.\n",
    "\t   - Keep the language clear and direct to avoid any confusion about what was decided.\n",
    "\t   - Bullet points or numbered lists can be effective for separating different aspects of the decision (e.g., description, responsible party, deadline).\n",
    "\t\n",
    "\tBy meticulously following these instructions, you'll create a comprehensive and clear \"Decisions Made\" section. This part of the meeting minutes is crucial for documenting the outcomes of discussions and ensuring that all attendees and relevant stakeholders are aware of the actions to be taken.\n",
    "\t\n",
    "\t\"\"\"\n",
    "\n",
    "section_4 = \\\n",
    "\t\"\"\"\n",
    "\tInstructions for Writing Section 4: Action Items with Detailed Information\n",
    "\t\n",
    "\t1. **Section Header**:\n",
    "\t   - Start with a clear header titled \"Action Items\" to indicate this section will enumerate specific tasks to be completed as a result of the meeting's discussions and decisions.\n",
    "\t\n",
    "\t2. **Itemizing Action Items**:\n",
    "\t   - List each action item that was identified during the meeting. You can use a bullet list or a numbered list for clarity. Each action item should be concise yet descriptive enough to convey the task fully.\n",
    "\t\n",
    "\t3. **Action Description**:\n",
    "\t   - For each action item, begin with \"Action:\" followed by a detailed description of the task. This description should be clear and specific, outlining what needs to be done. Avoid vague language to ensure that the action can be executed without additional clarification.\n",
    "\t   - Example:\n",
    "\t\t ```\n",
    "\t\t Action: Prepare a detailed report comparing Q2 budget projections against actual spending, highlighting areas of concern and potential savings.\n",
    "\t\t ```\n",
    "\t\n",
    "\t4. **Assigned To**:\n",
    "\t   - Specify who is responsible for completing the action item with \"Assigned To:\". This should be an individual's name or, if applicable, a department/team name. Assigning responsibility is crucial for accountability and follow-up.\n",
    "\t   - Example:\n",
    "\t\t ```\n",
    "\t\t Assigned To: Jane Doe, Budget Analyst\n",
    "\t\t ```\n",
    "\t\n",
    "\t5. **Deadline**:\n",
    "\t   - Set a clear deadline for the action item with \"Deadline:\". Provide a specific date to ensure there is a timeframe for completion. Deadlines help in prioritizing tasks and monitoring progress.\n",
    "\t   - Example:\n",
    "\t\t ```\n",
    "\t\t Deadline: May 15, 2024\n",
    "\t\t ```\n",
    "\t\n",
    "\t6. **Status (Optional)**:\n",
    "\t   - You may choose to include a \"Status:\" field to note the current progress of the action item at the time of writing the minutes. This can be particularly useful for ongoing tasks or for the next meeting’s follow-up.\n",
    "\t   - Example:\n",
    "\t\t ```\n",
    "\t\t Status: Assigned\n",
    "\t\t ```\n",
    "\t\n",
    "\t7. **Repeat for Each Action Item**:\n",
    "\t   - Follow steps 2 through 6 for each action item that arises from the meeting’s agenda. Ensure that each action is clearly defined with a responsible party and a deadline for a structured follow-up process.\n",
    "\t\n",
    "\t8. **Formatting Tips**:\n",
    "\t   - Consistent use of bold or italics for key terms (e.g., Action, Assigned To, Deadline) helps distinguish the essential elements of each action item.\n",
    "\t   - Consider using tables or a structured layout to organize the action items, especially if there are many. This can improve readability and make the document easier to scan.\n",
    "\t   - Maintain a concise, action-oriented language to ensure each task is clearly understood and actionable.\n",
    "\t\n",
    "\tBy adhering to these detailed instructions, you will create a comprehensive \"Action Items\" section in your meeting minutes. This part is pivotal for tracking the progress of tasks, ensuring accountability, and facilitating the execution of decisions made during the meeting.\n",
    "\t\n",
    "\t\"\"\"\n",
    "\n",
    "section_5 = \\\n",
    "\t\"\"\"\n",
    "\tInstructions for Writing Section 5: Closing Summary with Detailed Information\n",
    "\t\n",
    "\t1. **Section Header**:\n",
    "\t   - Begin with a bold header titled \"Closing Summary\" to clearly delineate this concluding section from the rest of the document.\n",
    "\t\n",
    "\t2. **Meeting Adjournment**:\n",
    "\t   - Start by noting the time the meeting officially ended with \"Meeting Adjourned:\". This helps to document the meeting's duration and marks the formal conclusion of the session.\n",
    "\t   - Example:\n",
    "\t\t ```\n",
    "\t\t Meeting Adjourned: 12:00 PM\n",
    "\t\t ```\n",
    "\t\n",
    "\t3. **Summary of Decisions and Action Items**:\n",
    "\t   - Provide a brief overview of the key decisions made and the action items assigned during the meeting. This recap is crucial for reinforcing the outcomes and ensuring that all participants are aligned on the next steps.\n",
    "\t   - Keep this summary concise and focused on the outcomes that have a significant impact or require immediate attention.\n",
    "\t   - Example:\n",
    "\t\t ```\n",
    "\t\t Summary of Decisions and Action Items:\n",
    "\t\t - Approved Q2 budget reallocation, increasing R&D funding by 15%.\n",
    "\t\t - Assigned John Doe to prepare a report on budget projections vs. actual spending by May 15, 2024.\n",
    "\t\t ```\n",
    "\t\n",
    "\t4. **Next Meeting**:\n",
    "\t   - If the date, time, and location of the next meeting have already been determined, include this information here. This helps in ensuring that participants can schedule accordingly and prepares them for the next session.\n",
    "\t   - Example:\n",
    "\t\t ```\n",
    "\t\t Next Meeting: June 10, 2024, at 10:00 AM - Virtual via Zoom\n",
    "\t\t ```\n",
    "\t\n",
    "\t5. **Closing Remarks**:\n",
    "\t   - Conclude with any final remarks or comments from the chairperson. This might include a thank you to the participants, a brief reflection on the meeting's productivity, or encouragement towards the execution of the decided actions.\n",
    "\t   - Example:\n",
    "\t\t ```\n",
    "\t\t Closing Remarks: The chairperson thanked all participants for their constructive discussions and emphasized the importance of the agreed-upon actions in achieving the department's objectives. All members were encouraged to prioritize the completion of their assigned tasks before the next meeting.\n",
    "\t\t ```\n",
    "\t\n",
    "\t6. **Formatting Tips**:\n",
    "\t   - Use clear, concise language to ensure the closing summary is easily digestible and emphasizes the key takeaways.\n",
    "\t   - Consider bullet points for the summary of decisions and action items to enhance readability.\n",
    "\t   - Maintain consistent formatting with the rest of the document, using similar fonts, headings, and layout styles.\n",
    "\t\n",
    "\tBy meticulously following these instructions, you'll create an effective Closing Summary for your meeting minutes. This section not only provides a succinct recap of the meeting's outcomes but also sets the stage for ongoing collaboration and accountability among participants.\n",
    "\t\n",
    "\t\"\"\"\n"
   ]
  },
  {
   "cell_type": "markdown",
   "id": "9a1bb3e06e8034ac",
   "metadata": {
    "collapsed": false
   },
   "source": [
    "# Experiment Setup\n",
    "\n",
    "## Audio Corpus\n",
    "We will be using an English excerpt from the IMDA National Speech Corpus (NSC). The aim of this transcription, and subsequent minutes generation, is to test the latest `large-v3` Whisper model on the __Singlish__ Accent.\n",
    "\n",
    "We will be testing it on the sample ID `3030` from the `NSC` dataset. This sample contains a conversation between a Singaporean Male and Singaporean Female. The exact lexicon used in the conversation recording includes Singlish phrases i.e. 'aiya', 'leh', 'lah'. We will be testing the model's ability to transcribe these phrases accurately. NSC provides:\n",
    "- Speaker 1's Audio\n",
    "- Speaker 2's Audio\n",
    "- Overall Audio\n",
    "\n",
    "## Transcription Corpus\n",
    "The NSC also provides a transcription of the audio corpus. We will be using this to compare the model's transcription accuracy. NSC provides:\n",
    "- Speaker 1's Transcription\n",
    "- Speaker 2's Transcription\n",
    "\n",
    "This will greatly aid our efforts when comparing the efficacy of the text-level speaker diarization later on. Do note that the transcription is given using the TextGrid format. From my initial analysis, it seems to conform with some variation of SSML. \n",
    "\n",
    "## Model\n",
    "We will be using the latest `large-v3` model offered by OpenAI, running it on the CPU (due to lack of CUDA GPU on my current system), and analysing the transcription accuracy. If we deem that it is up to standard, then we can proceed to __Speaker Diarization__. Else, we may put plans in place to retrain the model on the Singlish Accent. As mentioned above, we are currently using the IMDA NSC as our audio corpus, and it's roughly 890Gb of data. We will be using a small subset of this data for the initial testing.\n",
    "\n",
    "## Future Plans\n",
    "If the model is up to standard, we will proceed to __Speaker Diarization__ and __Minutes Generation__."
   ]
  },
  {
   "cell_type": "code",
   "outputs": [
    {
     "data": {
      "text/plain": "Whisper(\n  (encoder): AudioEncoder(\n    (conv1): Conv1d(80, 1024, kernel_size=(3,), stride=(1,), padding=(1,))\n    (conv2): Conv1d(1024, 1024, kernel_size=(3,), stride=(2,), padding=(1,))\n    (blocks): ModuleList(\n      (0-23): 24 x ResidualAttentionBlock(\n        (attn): MultiHeadAttention(\n          (query): Linear(in_features=1024, out_features=1024, bias=True)\n          (key): Linear(in_features=1024, out_features=1024, bias=False)\n          (value): Linear(in_features=1024, out_features=1024, bias=True)\n          (out): Linear(in_features=1024, out_features=1024, bias=True)\n        )\n        (attn_ln): LayerNorm((1024,), eps=1e-05, elementwise_affine=True)\n        (mlp): Sequential(\n          (0): Linear(in_features=1024, out_features=4096, bias=True)\n          (1): GELU(approximate='none')\n          (2): Linear(in_features=4096, out_features=1024, bias=True)\n        )\n        (mlp_ln): LayerNorm((1024,), eps=1e-05, elementwise_affine=True)\n      )\n    )\n    (ln_post): LayerNorm((1024,), eps=1e-05, elementwise_affine=True)\n  )\n  (decoder): TextDecoder(\n    (token_embedding): Embedding(51865, 1024)\n    (blocks): ModuleList(\n      (0-23): 24 x ResidualAttentionBlock(\n        (attn): MultiHeadAttention(\n          (query): Linear(in_features=1024, out_features=1024, bias=True)\n          (key): Linear(in_features=1024, out_features=1024, bias=False)\n          (value): Linear(in_features=1024, out_features=1024, bias=True)\n          (out): Linear(in_features=1024, out_features=1024, bias=True)\n        )\n        (attn_ln): LayerNorm((1024,), eps=1e-05, elementwise_affine=True)\n        (cross_attn): MultiHeadAttention(\n          (query): Linear(in_features=1024, out_features=1024, bias=True)\n          (key): Linear(in_features=1024, out_features=1024, bias=False)\n          (value): Linear(in_features=1024, out_features=1024, bias=True)\n          (out): Linear(in_features=1024, out_features=1024, bias=True)\n        )\n        (cross_attn_ln): LayerNorm((1024,), eps=1e-05, elementwise_affine=True)\n        (mlp): Sequential(\n          (0): Linear(in_features=1024, out_features=4096, bias=True)\n          (1): GELU(approximate='none')\n          (2): Linear(in_features=4096, out_features=1024, bias=True)\n        )\n        (mlp_ln): LayerNorm((1024,), eps=1e-05, elementwise_affine=True)\n      )\n    )\n    (ln): LayerNorm((1024,), eps=1e-05, elementwise_affine=True)\n  )\n)"
     },
     "execution_count": 4,
     "metadata": {},
     "output_type": "execute_result"
    }
   ],
   "source": [
    "import whisper\n",
    "import torch\n",
    "torch.cuda.init()\n",
    "\n",
    "model = whisper.load_model(\"medium\")\n",
    "device = \"cuda:0\" if torch.cuda.is_available() else \"cpu\"\n",
    "model.to(device)"
   ],
   "metadata": {
    "collapsed": false,
    "ExecuteTime": {
     "end_time": "2024-03-25T13:51:30.538384Z",
     "start_time": "2024-03-25T13:51:12.085725Z"
    }
   },
   "id": "578ebd4beb836880",
   "execution_count": 4
  },
  {
   "cell_type": "markdown",
   "source": [
    "## Faster-Whisper\n",
    "Tried the `large-v3` model on float16, the transcription was inconsistent AND not accurate. Reverting back to vanilla whisper (on cuda)"
   ],
   "metadata": {
    "collapsed": false
   },
   "id": "632ad886ad381fab"
  },
  {
   "cell_type": "code",
   "execution_count": 5,
   "id": "13e786f33cf95f08",
   "metadata": {
    "collapsed": false,
    "ExecuteTime": {
     "end_time": "2024-03-25T13:51:30.542924Z",
     "start_time": "2024-03-25T13:51:30.540007Z"
    }
   },
   "outputs": [],
   "source": [
    "# Load the model and the processor\n",
    "# from faster_whisper import WhisperModel\n",
    "# import torch\n",
    "# torch.cuda.init()\n",
    "# \n",
    "# model_size = \"large-v3\"\n",
    "\n",
    "# Run on GPU with FP16\n",
    "# model = WhisperModel(model_size, device=\"cuda\", compute_type=\"float16\")\n",
    "\n",
    "# segments, info = model.transcribe(\"./content/atc_train.mp3\", beam_size=5)\n",
    "# \n",
    "# print(\"Detected language '%s' with probability %f\" % (info.language, info.language_probability))\n",
    "# \n",
    "# for segment in segments:\n",
    "#     print(\"[%.2fs -> %.2fs] %s\" % (segment.start, segment.end, segment.text))"
   ]
  },
  {
   "cell_type": "markdown",
   "id": "31476ebaa0ecca6a",
   "metadata": {
    "collapsed": false
   },
   "source": [
    "# Meeting-Specific Prompts and Phrases\n"
   ]
  },
  {
   "cell_type": "code",
   "execution_count": 6,
   "id": "4a5f758dc67739c9",
   "metadata": {
    "collapsed": false,
    "ExecuteTime": {
     "end_time": "2024-03-25T13:51:30.554044Z",
     "start_time": "2024-03-25T13:51:30.544448Z"
    }
   },
   "outputs": [],
   "source": [
    "general = ['Singaporean Singlish Government Business Meeting Transcription Recording']\n",
    "\n",
    "singlish_phrases = [\n",
    "\t\"ah\", \"lah\", \"aiya\", \"leh\", \"aiyo\", \"can or not\", \"on the ball\", \"makan session\", \"pow-wow\",\n",
    "\t\"kiasu\", \"bo jio\", \"sian\", \"shiok\", \"jialat\", 'saigang',\n",
    "\t\"talk cock\", \"wayang\", \"kena\", \"chop-chop\", \"steady\",\n",
    "\t\"own time own target (OTOT)\", \"kopi talk\", \"catch up\", \"brainstorm\", \"align\",\n",
    "\t\"lobang\", \"paiseh\", \"action\", \"agaration\", \"angkat bola\",\n",
    "\t\"bao ga liao\", \"buay pai\", \"cheem\", \"chio\", \"garang\",\n",
    "\t\"goondu\", \"kaypoh\", \"leh\", \"lor\", \"nia\",\n",
    "\t\"one corner\", \"open table\", \"pai seh\", \"relak one corner\", \"sabo\",\n",
    "\t\"sai kang\", \"shiok\", \"siam\", \"sikit-sikit\", \"suay\",\n",
    "\t\"tabao\", \"talk shop\", \"tan tio\", \"up lorry\", \"wa kau\"\n",
    "]\n",
    "\n",
    "singlish_business_phrases = [\n",
    "\t\"lah\", \"can or not?\", \"on the ball\", \"kiasu\", \"shiok\",\n",
    "\t\"talk cock\", \"steady pom pi pi\", \"own time own target\", \"bo jio\", \"catch no ball\",\n",
    "\t\"chiong\", \"chop chop\", \"die die must do\", \"eat snake\", \"gostan\",\n",
    "\t\"jialat\", \"kaypoh\", \"leh\", \"lor\", \"makan\",\n",
    "\t\"nabei\", \"paiseh\", \"sabo\", \"sian\", \"suay\",\n",
    "\t\"walao eh\", \"wayang\", \"win already lor\", \"yaya papaya\", \"zi high\",\n",
    "\t\"send it\", \"check back next week\", \"let’s touch base on this\", \"circle back on that\", \"park this for now\",\n",
    "\t\"align our ducks\", \"low key\", \"see how\", \"can make it\", \"noted with thanks\",\n",
    "\t\"bo bian\", \"anyhow\", \"confirm plus chop\", \"got chance\", \"mai tu liao\",\n",
    "\t\"double confirm\", \"one shot\", \"over already\", \"swee\", \"talk later\"\n",
    "]\n",
    "\n",
    "# singlish_more_formal_phrases = [\n",
    "# \t'appreciate your feedback', 'before we proceed', \"let's take this offline\", 'moving forward', 'on the same page',\n",
    "# \t'per your suggestion', 'please advise', 'point of contact', 'scope of work', 'stakeholder engagement',\n",
    "# \t'strategic priorities', 'target milestones', 'thank you for your patience', 'timeline for completion',\n",
    "# \t'touch base next week',\n",
    "# \t\"we'll circle back on this\", 'action items', 'align our strategies', 'benchmark for success',\n",
    "# \t'best practices in the industry',\n",
    "# \t'client satisfaction', 'competitive advantage', 'comprehensive review', 'cost-effective solutions',\n",
    "# \t'cross-functional collaboration',\n",
    "# \t'due diligence', 'enhance our capabilities', 'feedback loop', 'forward-thinking approach', 'holistic strategy',\n",
    "# \t'implementation phase', 'key takeaways', 'leverage our strengths', 'maximize efficiency', 'ongoing support',\n",
    "# \t'optimize performance', 'proactive measures', 'quality assurance', 'risk management strategies',\n",
    "# \t'seamless integration',\n",
    "# \t'stakeholder feedback', 'sustainable growth', 'tailored solutions', 'value proposition', 'win-win situation',\n",
    "# \t'workflow optimization', 'zero in on the details', 'drive innovation', 'escalate this issue', 'monitor progress'\n",
    "# ]\n",
    "# common_words = [\n",
    "#     'agenda', 'align', 'benchmark', 'best practice', 'bottom line',\n",
    "#     'brainstorm', 'brand', 'budget', 'buy-in', 'capacity',\n",
    "#     'capital', 'collaborate', 'competitive', 'compliance', 'deliverable',\n",
    "#     'disruptive', 'diversify', 'efficiency', 'engagement', 'execution',\n",
    "#     'forecast', 'growth', 'innovate', 'insight', 'investment',\n",
    "#     'KPI (Key Performance Indicator)', 'leverage', 'metrics', 'milestone', 'networking',\n",
    "#     'objective', 'optimize', 'outcome', 'outsourcing', 'performance',\n",
    "#     'prioritize', 'profitability', 'project', 'ROI (Return on Investment)', 'scalability',\n",
    "#     'stakeholder', 'strategy', 'synergy', 'target', 'timeline',\n",
    "#     'traction', 'value', 'vision', 'workflow', 'yield'\n",
    "# ]\n",
    "# additional_business_words = [\n",
    "#     \"touch base\", \"heads up\", \"debrief\", \"downtime\", \"feedback\", \n",
    "#     \"game plan\", \"goal\", \"hangout\", \"initiative\", \"kickoff\", \n",
    "#     \"loop in\", \"milestones\", \"network\", \"nitty-gritty\", \"onboard\", \n",
    "#     \"ping\", \"pivot\", \"proactive\", \"ramp up\", \"reach out\", \n",
    "#     \"recap\", \"roadmap\", \"run-through\", \"scope\", \"sidebar\", \n",
    "#     \"silo\", \"sprint\", \"stakeholders\", \"stand-up\", \"startup\", \n",
    "#     \"strategy session\", \"streamline\", \"touchpoint\", \"track\", \"upskill\", \n",
    "#     \"value-add\", \"win-win\", \"workaround\", \"workshop\", \"zoom in\", \n",
    "#     \"bandwidth\", \"deep dive\", \"ecosystem\", \"empower\", \"granular\",\n",
    "#     \"holistic\", \"ideate\", \"iterate\", \"low-hanging fruit\", \"paradigm shift\"\n",
    "# ]\n",
    "collated_list = general + singlish_phrases + singlish_business_phrases #+ singlish_more_formal_phrases  # +common_words + additional_business_words\n",
    "\n",
    "collated_list_string = ' '.join(collated_list)"
   ]
  },
  {
   "cell_type": "markdown",
   "id": "653a11d8810f95ef",
   "metadata": {
    "collapsed": false
   },
   "source": [
    "# Performing Transcription"
   ]
  },
  {
   "cell_type": "code",
   "execution_count": 7,
   "id": "fde3c9b1e5da7ddc",
   "metadata": {
    "collapsed": false,
    "ExecuteTime": {
     "end_time": "2024-03-25T13:52:10.105103Z",
     "start_time": "2024-03-25T13:51:30.555456Z"
    }
   },
   "outputs": [
    {
     "name": "stdout",
     "output_type": "stream",
     "text": [
      "\u001B[91mNo matching transcription files found.\u001B[0m\n",
      "[00:00.000 --> 00:06.000]  or the caribor, when I get you up especially when you look like a piggy\n",
      "[00:06.000 --> 00:07.000]  Who said so?\n",
      "[00:07.000 --> 00:09.000]  I said, oh very nice man\n",
      "[00:09.000 --> 00:11.000]  Oh so do you drive there?\n",
      "[00:11.000 --> 00:13.000]  No I walk over there\n",
      "[00:13.000 --> 00:14.000]  Really? Huh?\n",
      "[00:14.000 --> 00:15.000]  I walk over there\n",
      "[00:15.000 --> 00:17.000]  How do you walk?\n",
      "[00:17.000 --> 00:19.000]  I can walk no problem at all\n",
      "[00:19.000 --> 00:21.000]  How many kilometer you walk?\n",
      "[00:21.000 --> 00:23.000]  I can't remember\n",
      "[00:23.000 --> 00:26.000]  Because I walk until my legs don't fit\n",
      "[00:26.000 --> 00:28.000]  So will you go there?\n",
      "[00:28.000 --> 00:30.000]  Will you go back again?\n",
      "[00:30.000 --> 00:32.000]  I don't think so, one season down\n",
      "[00:32.000 --> 00:33.000]  Why?\n",
      "[00:33.000 --> 00:35.000]  Because it's too much\n",
      "[00:35.000 --> 00:38.000]  So which is your next destination?\n",
      "[00:38.000 --> 00:42.000]  Maybe next one go to another part of Africa\n",
      "[00:42.000 --> 00:43.000]  Oh\n",
      "[00:43.000 --> 00:45.000]  Western Africa, no it's more challenging\n",
      "[00:45.000 --> 00:46.000]  Oh is it?\n",
      "[00:46.000 --> 00:49.000]  Because it's more fun than what you expect to be\n",
      "[00:49.000 --> 00:55.000]  Then why don't you go to South Australia?\n",
      "[00:55.000 --> 00:56.000]  South Australia\n",
      "[00:56.000 --> 00:58.000]  Yeah, southern lights\n",
      "[00:58.000 --> 01:00.000]  So Australia is nothing compared to Africa\n",
      "[01:00.000 --> 01:04.000]  Because Africa is a very wild place to go\n",
      "[01:04.000 --> 01:06.000]  Yeah I mean\n",
      "[01:06.000 --> 01:09.000]  Until you go until you say, I don't want to go again\n",
      "[01:09.000 --> 01:12.000]  Because Australia you go you want to go again and again and again\n",
      "[01:12.000 --> 01:16.000]  But why do so many people want to catch the northern lights?\n",
      "[01:16.000 --> 01:20.000]  Because there's no natural light that look like northern light\n",
      "[01:20.000 --> 01:23.000]  That's why they want to catch the northern light\n",
      "[01:23.000 --> 01:25.000]  Because they thought it's a special food and sunlight light\n",
      "[01:25.000 --> 01:28.000]  But actually you can make the same effect in your computer\n",
      "[01:28.000 --> 01:31.000]  But I thought the lights can dance\n",
      "[01:31.000 --> 01:32.000]  Huh?\n",
      "[01:32.000 --> 01:36.000]  I thought some got frostbite when they have\n",
      "[01:36.000 --> 01:39.000]  Because they stay out in the cold for too long that's why\n",
      "[01:39.000 --> 01:40.000]  Well\n",
      "[01:40.000 --> 01:42.000]  Until the light make them freeze\n",
      "[01:42.000 --> 01:44.000]  That's why it's called make them freeze\n",
      "[01:44.000 --> 01:46.000]  That's why they make them frozen light\n",
      "[01:46.000 --> 01:48.000]  Do you feel like camping over there?\n",
      "[01:48.000 --> 01:49.000]  Not really\n",
      "[01:49.000 --> 01:50.000]  Why?\n",
      "[01:50.000 --> 01:52.000]  You camp there you can do what? What can you do?\n",
      "[01:52.000 --> 01:54.000]  You want northern light easy la\n",
      "[01:54.000 --> 01:56.000]  Just buy a lamp\n",
      "[01:56.000 --> 01:59.000]  Then you make it like green colour then it become like northern light\n",
      "[01:59.000 --> 02:00.000]  Wow\n",
      "[02:00.000 --> 02:02.000]  Then how about the dancing effect?\n",
      "[02:02.000 --> 02:04.000]  Dancing effect you make the lamp move around la\n",
      "[02:04.000 --> 02:06.000]  Then become moving dancing light la\n",
      "[02:06.000 --> 02:07.000]  Same as the same effect northern light\n",
      "[02:07.000 --> 02:09.000]  That's so creative\n",
      "[02:09.000 --> 02:10.000]  Yeah\n",
      "[02:10.000 --> 02:11.000]  That's very interesting\n",
      "[02:11.000 --> 02:13.000]  That's the man-made northern light\n",
      "[02:13.000 --> 02:14.000]  Wow\n",
      "[02:14.000 --> 02:18.000]  So you don't need to worry about paying all the etiquette, accommodation and all your transfer to\n",
      "[02:18.000 --> 02:20.000]  To see the northern light\n",
      "[02:20.000 --> 02:21.000]  That's a great idea\n",
      "[02:21.000 --> 02:22.000]  You won't get frostbite for sure\n",
      "[02:22.000 --> 02:23.000]  Wow\n",
      "[02:23.000 --> 02:24.000]  100%\n",
      "[02:24.000 --> 02:26.000]  Then how about the husky dogs?\n",
      "[02:26.000 --> 02:28.000]  Husky dog you can go to Thailand no problem\n",
      "[02:28.000 --> 02:31.000]  I want to go to the husky dog cafe\n",
      "[02:31.000 --> 02:32.000]  You can go yourself thank you\n",
      "[02:32.000 --> 02:33.000]  Please\n",
      "[02:33.000 --> 02:38.000]  I want to go to the raccoon cafe in Seoul, South Korea\n",
      "[02:38.000 --> 02:40.000]  Raccoon la that one\n",
      "[02:40.000 --> 02:41.000]  The raccoon was nothing\n",
      "[02:41.000 --> 02:43.000]  That's the creature in the gallows\n",
      "[02:43.000 --> 02:46.000]  Guardians of the gallows\n",
      "[02:46.000 --> 02:47.000]  Then you go and find the guardian of the gallows\n",
      "[02:47.000 --> 02:49.000]  That one is the red raccoon\n",
      "[02:49.000 --> 02:50.000]  That one is the talking raccoon\n",
      "[02:50.000 --> 02:52.000]  Yeah I like the talking raccoon\n",
      "[02:52.000 --> 02:55.000]  The talking raccoon can't talk\n",
      "[02:55.000 --> 03:00.000]  Also you bring me there maybe the raccoon can talk\n",
      "[03:00.000 --> 03:02.000]  I don't think so la\n",
      "[03:02.000 --> 03:04.000]  You might say you do stupid raccoon\n",
      "[03:04.000 --> 03:05.000]  They will just go you back\n",
      "[03:05.000 --> 03:07.000]  That's the talking raccoon\n",
      "[03:07.000 --> 03:09.000]  Then you what are you talking about?\n",
      "[03:09.000 --> 03:11.000]  Ah tu tu tu tu tu\n",
      "[03:11.000 --> 03:14.000]  Then you become the\n",
      "[03:14.000 --> 03:15.000]  The listar\n",
      "[03:15.000 --> 03:17.000]  What's the name la?\n",
      "[03:17.000 --> 03:19.000]  Forget\n",
      "[03:19.000 --> 03:21.000]  Guardians of the gallows\n",
      "[03:21.000 --> 03:22.000]  Oh yeah\n",
      "[03:22.000 --> 03:23.000]  Wow\n",
      "[03:23.000 --> 03:24.000]  Baron\n",
      "[03:24.000 --> 03:26.000]  Very good\n",
      "[03:26.000 --> 03:27.000]  So\n",
      "[03:27.000 --> 03:29.000]  So I think it's\n",
      "[03:29.000 --> 03:31.000]  So if you want to see the real raccoon\n",
      "[03:31.000 --> 03:35.000]  Please go and find the raccoon member\n",
      "[03:35.000 --> 03:37.000]  In the guardians of the gallows\n",
      "[03:37.000 --> 03:39.000]  He will wait for you in the universe\n",
      "[03:39.000 --> 03:43.000]  In some very far away universe\n",
      "[03:43.000 --> 03:45.000]  So for sports and fitness\n",
      "[03:45.000 --> 03:47.000]  How do you keep fit?\n",
      "[03:47.000 --> 03:49.000]  I keep fit anywhere\n",
      "[03:49.000 --> 03:51.000]  On the bed\n",
      "[03:51.000 --> 03:53.000]  Hey\n",
      "[03:53.000 --> 03:55.000]  You can't say that sir\n",
      "[03:55.000 --> 03:57.000]  On the water bed\n",
      "[03:57.000 --> 03:59.000]  On the water bed because I do water sports\n",
      "\u001B[92mTranscription completed and saved at ./transcriptions/transcription_240325.txt.\u001B[0m\n"
     ]
    }
   ],
   "source": [
    "import os\n",
    "import re\n",
    "import ast\n",
    "from datetime import datetime\n",
    "\n",
    "# Specify the directory path\n",
    "transcriptions_dir = \"./transcriptions\"\n",
    "\n",
    "# Check if the directory exists\n",
    "if not os.path.exists(transcriptions_dir):\n",
    "\t# If the directory does not exist, create it\n",
    "\tos.makedirs(transcriptions_dir)\n",
    "\n",
    "\n",
    "def find_latest_transcription(directory):\n",
    "\t# Regex pattern for matching the filename\n",
    "\tpattern = re.compile(r'transcription_(\\d{2})(\\d{2})(\\d{2})\\.txt')\n",
    "\tlatest_file = None\n",
    "\tlatest_date = None\n",
    "\n",
    "\tfor filename in os.listdir(directory):\n",
    "\t\tmatch = pattern.match(filename)\n",
    "\t\tif match:\n",
    "\t\t\t# Extract day, month, year from the filename\n",
    "\t\t\tday, month, year = match.groups()\n",
    "\t\t\tfile_date = datetime.strptime(f'20{year}{month}{day}', '%Y%m%d')\n",
    "\n",
    "\t\t\t# Update the latest file based on date\n",
    "\t\t\tif not latest_date or file_date > latest_date:\n",
    "\t\t\t\tlatest_date = file_date\n",
    "\t\t\t\tlatest_file = filename\n",
    "\n",
    "\treturn latest_file if latest_file else None\n",
    "\n",
    "\n",
    "# Attempt to find the latest transcription file\n",
    "latest_transcription_file = find_latest_transcription(transcriptions_dir)\n",
    "\n",
    "if latest_transcription_file:\n",
    "\t# Full path for the latest file including the directory\n",
    "\tfile_path = os.path.join(transcriptions_dir, latest_transcription_file)\n",
    "\ttry:\n",
    "\t\twith open(file_path, \"r\") as stored_result:\n",
    "\t\t\t# If the file exists and is opened successfully, read the content\n",
    "\t\t\ttemp_result = stored_result.read()\n",
    "\t\t\tresult = ast.literal_eval(temp_result)\n",
    "\t\t\t# result = dict(result)\n",
    "\t\tprint('\\033[92mTranscription located:\\033[0m')\n",
    "\t\tprint(result['text'])\n",
    "\n",
    "\texcept FileNotFoundError:\n",
    "\t\tprint(\"File not found, although it was expected to exist.\")\n",
    "else:\n",
    "\t# No transcription file matching the pattern was found\n",
    "\tprint('\\033[91mNo matching transcription files found.\\033[0m')\n",
    "\t# If the file does not exist, execute the transcription process and create the file\n",
    "\ttemp_result = str(model.transcribe(\"./content/singlish_accent/3030_trimmed/3030-combined_trimmed.mp3\", verbose=True,\n",
    "\t                              language=\"en\", prompt=collated_list_string))\n",
    "\tfile_path = os.path.join(transcriptions_dir, f'transcription_{datetime.now().strftime(\"%y%m%d\")}.txt')\n",
    "\twith open(file_path, \"w\") as f:\n",
    "\t\tf.write(temp_result)\n",
    "\tresult = ast.literal_eval(temp_result)\n",
    "\tprint(f'\\033[92mTranscription completed and saved at {file_path}.\\033[0m')\n"
   ]
  },
  {
   "cell_type": "markdown",
   "id": "4bbe314e73ba75e2",
   "metadata": {
    "collapsed": false
   },
   "source": []
  },
  {
   "cell_type": "markdown",
   "id": "645ea9f2abc2e712",
   "metadata": {
    "collapsed": false
   },
   "source": [
    "# Transcription Cleanup and Diarization"
   ]
  },
  {
   "cell_type": "code",
   "execution_count": 13,
   "id": "9e054cef7289f09c",
   "metadata": {
    "collapsed": false,
    "ExecuteTime": {
     "end_time": "2024-03-25T13:53:39.625903Z",
     "start_time": "2024-03-25T13:53:39.620747Z"
    }
   },
   "outputs": [
    {
     "data": {
      "text/plain": "['or the caribor, when I get you up especially when you look like a piggy',\n 'Who said so?',\n 'I said, oh very nice man',\n 'Oh so do you drive there?',\n 'No I walk over there',\n 'Really? Huh?',\n 'I walk over there',\n 'How do you walk?',\n 'I can walk no problem at all',\n 'How many kilometer you walk?',\n \"I can't remember\",\n \"Because I walk until my legs don't fit\",\n 'So will you go there?',\n 'Will you go back again?',\n \"I don't think so, one season down\",\n 'Why?',\n \"Because it's too much\",\n 'So which is your next destination?',\n 'Maybe next one go to another part of Africa',\n 'Oh',\n \"Western Africa, no it's more challenging\",\n 'Oh is it?',\n \"Because it's more fun than what you expect to be\",\n \"Then why don't you go to South Australia?\",\n 'South Australia',\n 'Yeah, southern lights',\n 'So Australia is nothing compared to Africa',\n 'Because Africa is a very wild place to go',\n 'Yeah I mean',\n \"Until you go until you say, I don't want to go again\",\n 'Because Australia you go you want to go again and again and again',\n 'But why do so many people want to catch the northern lights?',\n \"Because there's no natural light that look like northern light\",\n \"That's why they want to catch the northern light\",\n \"Because they thought it's a special food and sunlight light\",\n 'But actually you can make the same effect in your computer',\n 'But I thought the lights can dance',\n 'Huh?',\n 'I thought some got frostbite when they have',\n \"Because they stay out in the cold for too long that's why\",\n 'Well',\n 'Until the light make them freeze',\n \"That's why it's called make them freeze\",\n \"That's why they make them frozen light\",\n 'Do you feel like camping over there?',\n 'Not really',\n 'Why?',\n 'You camp there you can do what? What can you do?',\n 'You want northern light easy la',\n 'Just buy a lamp',\n 'Then you make it like green colour then it become like northern light',\n 'Wow',\n 'Then how about the dancing effect?',\n 'Dancing effect you make the lamp move around la',\n 'Then become moving dancing light la',\n 'Same as the same effect northern light',\n \"That's so creative\",\n 'Yeah',\n \"That's very interesting\",\n \"That's the man-made northern light\",\n 'Wow',\n \"So you don't need to worry about paying all the etiquette, accommodation and all your transfer to\",\n 'To see the northern light',\n \"That's a great idea\",\n \"You won't get frostbite for sure\",\n 'Wow',\n '100%',\n 'Then how about the husky dogs?',\n 'Husky dog you can go to Thailand no problem',\n 'I want to go to the husky dog cafe',\n 'You can go yourself thank you',\n 'Please',\n 'I want to go to the raccoon cafe in Seoul, South Korea',\n 'Raccoon la that one',\n 'The raccoon was nothing',\n \"That's the creature in the gallows\",\n 'Guardians of the gallows',\n 'Then you go and find the guardian of the gallows',\n 'That one is the red raccoon',\n 'That one is the talking raccoon',\n 'Yeah I like the talking raccoon',\n \"The talking raccoon can't talk\",\n 'Also you bring me there maybe the raccoon can talk',\n \"I don't think so la\",\n 'You might say you do stupid raccoon',\n 'They will just go you back',\n \"That's the talking raccoon\",\n 'Then you what are you talking about?',\n 'Ah tu tu tu tu tu',\n 'Then you become the',\n 'The listar',\n \"What's the name la?\",\n 'Forget',\n 'Guardians of the gallows',\n 'Oh yeah',\n 'Wow',\n 'Baron',\n 'Very good',\n 'So',\n \"So I think it's\",\n 'So if you want to see the real raccoon',\n 'Please go and find the raccoon member',\n 'In the guardians of the gallows',\n 'He will wait for you in the universe',\n 'In some very far away universe',\n 'So for sports and fitness',\n 'How do you keep fit?',\n 'I keep fit anywhere',\n 'On the bed',\n 'Hey',\n \"You can't say that sir\",\n 'On the water bed',\n 'On the water bed because I do water sports']"
     },
     "execution_count": 13,
     "metadata": {},
     "output_type": "execute_result"
    }
   ],
   "source": [
    "per_line = []\n",
    "for segment in result['segments']:\n",
    "\ttext_to_append = segment['text']\n",
    "\ttext_to_append = text_to_append[1:]\n",
    "\tper_line.append(text_to_append)\n",
    "\n",
    "per_line"
   ]
  },
  {
   "cell_type": "markdown",
   "id": "b01a1b29837ce739",
   "metadata": {
    "collapsed": false
   },
   "source": [
    "## Naive Diarization\n",
    "\n",
    "For this, we input the whole transcript into the model, but we run the risk of running out of context."
   ]
  },
  {
   "cell_type": "code",
   "execution_count": 14,
   "id": "53e5aa18eb69a9f8",
   "metadata": {
    "collapsed": false,
    "ExecuteTime": {
     "end_time": "2024-03-25T13:55:44.223601Z",
     "start_time": "2024-03-25T13:55:37.163751Z"
    }
   },
   "outputs": [
    {
     "data": {
      "text/plain": "\"['Speaker 1', 'Speaker 1', 'Speaker 1', 'Speaker 2', 'Speaker 2', 'Speaker 2', 'Speaker 2', 'Speaker 1', 'Speaker 1', 'Speaker 1', 'Speaker 1', 'Speaker 1', 'Speaker 2', 'Speaker 2', 'Speaker 2', 'Speaker 2', 'Speaker 2', 'Speaker 2', 'Speaker 2', 'Speaker... 'Speaker 2', 'Speaker 2', 'Speaker 2', 'Speaker 2', 'Speaker 2', 'Speaker 2', 'Speaker 2', 'Speaker 2', 'Speaker 2', 'Speaker 2', 'Speaker 2', 'Speaker 2', 'Speaker 2', 'Speaker 2', 'Speaker 2', 'Speaker 2', 'Speaker 2', 'Speaker 2', 'Speaker 2', 'Speaker 2']\""
     },
     "execution_count": 14,
     "metadata": {},
     "output_type": "execute_result"
    }
   ],
   "source": [
    "diarization = client.chat.completions.create(\n",
    "\tmodel=DEPLOYMENT,\n",
    "\tmessages=[\n",
    "\t\t{\"role\": \"system\",\n",
    "\t\t \"content\": \"You are a linguistics expert with 50 years of experience. You will be given a list of sentence, and you are to assign the Speaker label to each sentence PER line. I.e. Given ['It wasn't my fault', 'I didn't say it was', 'Don't accuse me'], you will return me: ['Speaker 1', 'Speaker 2', 'Speaker 2']\"},\n",
    "\t\t{\"role\": \"user\",\n",
    "\t\t \"content\": f\"Here is the list of sentences: {per_line}. You will diarize ALL the words/phrases in the list. JUST RETURN ME THE LIST. You WILL ensure that you labeled EVERY line. You will return me: ['Speaker 1', 'Speaker 2', 'Speaker 2']\"}\n",
    "\t],\n",
    "\tmax_tokens=2000,\n",
    "\tstream=False,\n",
    "\ttemperature=0.5,\n",
    ")\n",
    "end_result = diarization.choices[0].message.content\n",
    "end_result"
   ]
  },
  {
   "cell_type": "markdown",
   "id": "ae7774696b6ac4d9",
   "metadata": {
    "collapsed": false
   },
   "source": [
    "As we can see, the end result is broken and unreliable. As such, we will need to perform a more reliable diarization method.\n",
    "\n",
    "We will proceed to a Chunk+Stride diarization method."
   ]
  },
  {
   "cell_type": "markdown",
   "id": "3565ced60af225dc",
   "metadata": {
    "collapsed": false
   },
   "source": [
    "## Chunk+Stride Diarization\n",
    "\n",
    "For the Chunk+Stride Diarization method, we will chunk the list into `x` number of chunks, and for each chunk, we will also add a stride of `a` behind and in front of the chunk. This will allow us to capture the context of the conversation better, and thus, provide a more accurate diarization.\n",
    "\n",
    "\\begin{equation}\n",
    "N = \\text{length of list}\n",
    "\\end{equation}\n",
    "\\begin{equation}\n",
    "c = \\text{chunk size}, \\, a = \\text{stride length}\n",
    "\\end{equation}\n",
    "\\begin{equation}\n",
    "x = \\left\\lceil \\frac{N}{c} \\right\\rceil, \\, \\text{number of chunks}\n",
    "\\end{equation}\n",
    "\\begin{equation}\n",
    "\\text{Initial chunks definition:}\n",
    "\\end{equation}\n",
    "\\begin{equation}\n",
    "S_i = i \\cdot c, \\, E_i = \\min((i+1) \\cdot c - 1, N-1), \\, 0 \\leq i < x\n",
    "\\end{equation}\n",
    "\\begin{equation}\n",
    "\\text{Stride modifications:}\n",
    "\\end{equation}\n",
    "\\begin{equation}\n",
    "\\text{For } i = 1 \\text{ to } x-2:\n",
    "\\end{equation}\n",
    "\\begin{equation}\n",
    "\\text{Prepend } \\text{sort}(\\text{last } a \\text{ elements of } \\text{chunk}_{i-1}, \\text{desc}) \\text{ to } \\text{chunk}_i\n",
    "\\end{equation}\n",
    "\\begin{equation}\n",
    "\\text{Append } \\text{sort}(\\text{first } a \\text{ elements of } \\text{chunk}_{i+1}) \\text{ to } \\text{chunk}_i\n",
    "\\end{equation}\n",
    "\\begin{equation}\n",
    "\\text{For } i = 0 \\text{ and } i = x-1, \\text{ chunks remain unchanged.}\n",
    "\\end{equation}\n",
    "\n"
   ]
  },
  {
   "cell_type": "code",
   "execution_count": 155,
   "id": "15bef0e11e18d38b",
   "metadata": {
    "collapsed": false,
    "ExecuteTime": {
     "end_time": "2024-03-25T15:47:25.380735Z",
     "start_time": "2024-03-25T15:47:25.370693Z"
    }
   },
   "outputs": [
    {
     "name": "stdout",
     "output_type": "stream",
     "text": [
      "Strided Chunks: [['or the caribor, when I get you up especially when you look like a piggy', 'Who said so?', 'I said, oh very nice man', 'Oh so do you drive there?', 'No I walk over there', 'Really? Huh?', 'I walk over there', 'How do you walk?'], ['How do you walk?', 'I walk over there', 'I can walk no problem at all', 'How many kilometer you walk?', \"I can't remember\", \"Because I walk until my legs don't fit\", 'So will you go there?', 'Will you go back again?', \"I don't think so, one season down\", 'Why?', \"Because it's too much\", 'So which is your next destination?'], [\"I don't think so, one season down\", 'Why?', \"Because it's too much\", 'So which is your next destination?', 'Maybe next one go to another part of Africa', 'Oh', \"Western Africa, no it's more challenging\", 'Oh is it?', \"Because it's more fun than what you expect to be\", \"Then why don't you go to South Australia?\", 'South Australia', 'Yeah, southern lights'], [\"Because it's more fun than what you expect to be\", \"Then why don't you go to South Australia?\", 'South Australia', 'Yeah, southern lights', 'So Australia is nothing compared to Africa', 'Because Africa is a very wild place to go', 'Yeah I mean', \"Until you go until you say, I don't want to go again\", 'Because Australia you go you want to go again and again and again', 'But why do so many people want to catch the northern lights?', \"Because there's no natural light that look like northern light\", \"That's why they want to catch the northern light\"], ['Because Australia you go you want to go again and again and again', 'But why do so many people want to catch the northern lights?', \"Because there's no natural light that look like northern light\", \"That's why they want to catch the northern light\", \"Because they thought it's a special food and sunlight light\", 'But actually you can make the same effect in your computer', 'But I thought the lights can dance', 'Huh?', 'I thought some got frostbite when they have', \"Because they stay out in the cold for too long that's why\", 'Well', 'Until the light make them freeze'], [\"Because they stay out in the cold for too long that's why\", 'I thought some got frostbite when they have', 'Well', 'Until the light make them freeze', \"That's why it's called make them freeze\", \"That's why they make them frozen light\", 'Do you feel like camping over there?', 'Not really', 'Why?', 'You camp there you can do what? What can you do?', 'You want northern light easy la', 'Just buy a lamp'], ['Why?', 'You camp there you can do what? What can you do?', 'You want northern light easy la', 'Just buy a lamp', 'Then you make it like green colour then it become like northern light', 'Wow', 'Then how about the dancing effect?', 'Dancing effect you make the lamp move around la', 'Then become moving dancing light la', 'Same as the same effect northern light', \"That's so creative\", 'Yeah'], ['Same as the same effect northern light', 'Then become moving dancing light la', \"That's so creative\", 'Yeah', \"That's very interesting\", \"That's the man-made northern light\", 'Wow', \"So you don't need to worry about paying all the etiquette, accommodation and all your transfer to\", 'To see the northern light', \"That's a great idea\", \"You won't get frostbite for sure\", 'Wow'], [\"That's a great idea\", 'To see the northern light', \"You won't get frostbite for sure\", 'Wow', '100%', 'Then how about the husky dogs?', 'Husky dog you can go to Thailand no problem', 'I want to go to the husky dog cafe', 'You can go yourself thank you', 'Please', 'I want to go to the raccoon cafe in Seoul, South Korea', 'Raccoon la that one'], ['Please', 'You can go yourself thank you', 'I want to go to the raccoon cafe in Seoul, South Korea', 'Raccoon la that one', 'The raccoon was nothing', \"That's the creature in the gallows\", 'Guardians of the gallows', 'Then you go and find the guardian of the gallows', 'That one is the red raccoon', 'That one is the talking raccoon', 'Yeah I like the talking raccoon', \"The talking raccoon can't talk\"], ['That one is the red raccoon', 'That one is the talking raccoon', 'Yeah I like the talking raccoon', \"The talking raccoon can't talk\", 'Also you bring me there maybe the raccoon can talk', \"I don't think so la\", 'You might say you do stupid raccoon', 'They will just go you back', \"That's the talking raccoon\", 'Then you what are you talking about?', 'Ah tu tu tu tu tu', 'Then you become the'], [\"That's the talking raccoon\", 'Then you what are you talking about?', 'Ah tu tu tu tu tu', 'Then you become the', 'The listar', \"What's the name la?\", 'Forget', 'Guardians of the gallows', 'Oh yeah', 'Wow', 'Baron', 'Very good'], ['Oh yeah', 'Wow', 'Baron', 'Very good', 'So', \"So I think it's\", 'So if you want to see the real raccoon', 'Please go and find the raccoon member', 'In the guardians of the gallows', 'He will wait for you in the universe', 'In some very far away universe', 'So for sports and fitness'], ['He will wait for you in the universe', 'In the guardians of the gallows', 'In some very far away universe', 'So for sports and fitness', 'How do you keep fit?', 'I keep fit anywhere', 'On the bed', 'Hey', \"You can't say that sir\", 'On the water bed', 'On the water bed because I do water sports'], ['On the water bed', \"You can't say that sir\", 'On the water bed because I do water sports']]\n",
      "Strided Chunk Indices: [[0, 1, 2, 3, 4, 5, 6, 7], [6, 7, 8, 9, 10, 11, 12, 13, 14, 15, 16, 17], [14, 15, 16, 17, 18, 19, 20, 21, 22, 23, 24, 25], [22, 23, 24, 25, 26, 27, 28, 29, 30, 31, 32, 33], [30, 31, 32, 33, 34, 35, 36, 37, 38, 39, 40, 41], [38, 39, 40, 41, 42, 43, 44, 45, 46, 47, 48, 49], [46, 47, 48, 49, 50, 51, 52, 53, 54, 55, 56, 57], [54, 55, 56, 57, 58, 59, 60, 61, 62, 63, 64, 65], [62, 63, 64, 65, 66, 67, 68, 69, 70, 71, 72, 73], [70, 71, 72, 73, 74, 75, 76, 77, 78, 79, 80, 81], [78, 79, 80, 81, 82, 83, 84, 85, 86, 87, 88, 89], [86, 87, 88, 89, 90, 91, 92, 93, 94, 95, 96, 97], [94, 95, 96, 97, 98, 99, 100, 101, 102, 103, 104, 105], [102, 103, 104, 105, 106, 107, 108, 109, 110, 111, 112], [110, 111, 112]]\n"
     ]
    }
   ],
   "source": [
    "from collections import deque\n",
    "STRIDE = 2\n",
    "NUMBER_OF_CHUNKS = 8\n",
    "\n",
    "def chunk_with_stride_and_indices(initial_list: list, stride: int, number_of_chunks: int):\n",
    "\tN = len(initial_list)\n",
    "\tchunk_indices = list(range(0, N))\n",
    "\n",
    "\t# Create initial chunks\n",
    "\tinitial_chunks = [initial_list[i * number_of_chunks:(i + 1) * number_of_chunks] for i in\n",
    "\t                  range((N + number_of_chunks - 1) // number_of_chunks)]\n",
    "\tinitial_chunk_indices = [chunk_indices[i * number_of_chunks:(i + 1) * number_of_chunks] for i in\n",
    "\t                         range((N + number_of_chunks - 1) // number_of_chunks)]\n",
    "\n",
    "\tstride_chunks = []\n",
    "\tstride_chunk_indices = []  # Track indices for each strided chunk\n",
    "\n",
    "\tfor chunk_index in range(len(initial_chunks)):\n",
    "\t\tcurrent_indices = deque(initial_chunk_indices[chunk_index])\n",
    "\n",
    "\t\tif chunk_index == 0:\n",
    "\t\t\tstride_chunks.append(initial_chunks[chunk_index])\n",
    "\t\t\tstride_chunk_indices.append(list(current_indices))\n",
    "\t\telif 0 < chunk_index < len(initial_chunks) - 1:\n",
    "\t\t\tcurrent_chunk = deque(initial_chunks[chunk_index])\n",
    "\n",
    "\t\t\t# Retrieve elements and their indices from the previous chunk to perform backwards stride\n",
    "\t\t\tprevious_chunk_elements = initial_chunks[chunk_index - 1][-stride:]\n",
    "\t\t\tprevious_chunk_elements.sort(reverse=True)\n",
    "\t\t\tprevious_indices = initial_chunk_indices[chunk_index - 1][-stride:]\n",
    "\t\t\tprevious_indices.sort(reverse=True)\n",
    "\n",
    "\t\t\tfor past_element, past_index in zip(previous_chunk_elements, previous_indices):\n",
    "\t\t\t\tcurrent_chunk.appendleft(past_element)\n",
    "\t\t\t\tcurrent_indices.appendleft(past_index)\n",
    "\n",
    "\t\t\tfuture_chunk_elements = initial_chunks[chunk_index + 1][:stride]\n",
    "\t\t\tfuture_indices = initial_chunk_indices[chunk_index + 1][:stride]\n",
    "\n",
    "\t\t\tfor future_element, future_index in zip(future_chunk_elements, future_indices):\n",
    "\t\t\t\tcurrent_chunk.append(future_element)\n",
    "\t\t\t\tcurrent_indices.append(future_index)\n",
    "\n",
    "\t\t\tstride_chunks.append(list(current_chunk))\n",
    "\t\t\tstride_chunk_indices.append(list(current_indices))\n",
    "\n",
    "\t\telif chunk_index == len(initial_chunks) - 1:\n",
    "\t\t\tcurrent_chunk = deque(initial_chunks[chunk_index])\n",
    "\t\t\tprevious_chunk_elements = initial_chunks[chunk_index - 1][-stride:]\n",
    "\t\t\tprevious_chunk_elements.sort(reverse=True)\n",
    "\t\t\tprevious_indices = initial_chunk_indices[chunk_index - 1][-stride:]\n",
    "\t\t\tprevious_indices.sort(reverse=True)\n",
    "\n",
    "\t\t\tfor past_element, past_index in zip(previous_chunk_elements, previous_indices):\n",
    "\t\t\t\tcurrent_chunk.appendleft(past_element)\n",
    "\t\t\t\tcurrent_indices.appendleft(past_index)\n",
    "\n",
    "\t\t\tstride_chunks.append(list(current_chunk))\n",
    "\t\t\tstride_chunk_indices.append(list(current_indices))\n",
    "\t\telse:\n",
    "\t\t\traise ValueError(\"Invalid chunk index\")\n",
    "\n",
    "\tprint(\"Strided Chunks:\", stride_chunks)\n",
    "\tprint(\"Strided Chunk Indices:\", stride_chunk_indices)\n",
    "\treturn stride_chunks, stride_chunk_indices\n",
    "\n",
    "\n",
    "strided_chunks, strided_chunk_indices = chunk_with_stride_and_indices(per_line, STRIDE,NUMBER_OF_CHUNKS)\n"
   ]
  },
  {
   "cell_type": "code",
   "execution_count": 156,
   "id": "ed69ab7584e6c182",
   "metadata": {
    "collapsed": false,
    "ExecuteTime": {
     "end_time": "2024-03-25T15:47:27.607582Z",
     "start_time": "2024-03-25T15:47:27.599189Z"
    }
   },
   "outputs": [
    {
     "name": "stdout",
     "output_type": "stream",
     "text": [
      "Strided Chunks: [['or the caribor, when I get you up especially when you look like a piggy', 'Who said so?', 'I said, oh very nice man', 'Oh so do you drive there?', 'No I walk over there', 'Really? Huh?', 'I walk over there', 'How do you walk?', 'I can walk no problem at all', 'How many kilometer you walk?', \"I can't remember\", \"Because I walk until my legs don't fit\", 'So will you go there?', 'Will you go back again?', \"I don't think so, one season down\", 'Why?', \"Because it's too much\"], ['Will you go back again?', \"I don't think so, one season down\", 'Why?', \"Because it's too much\", 'So which is your next destination?', 'Maybe next one go to another part of Africa', 'Oh', \"Western Africa, no it's more challenging\", 'Oh is it?', \"Because it's more fun than what you expect to be\", \"Then why don't you go to South Australia?\", 'South Australia', 'Yeah, southern lights', 'So Australia is nothing compared to Africa', 'Because Africa is a very wild place to go', 'Yeah I mean', \"Until you go until you say, I don't want to go again\", 'Because Australia you go you want to go again and again and again', 'But why do so many people want to catch the northern lights?'], ['Yeah I mean', \"Until you go until you say, I don't want to go again\", 'Because Australia you go you want to go again and again and again', 'But why do so many people want to catch the northern lights?', \"Because there's no natural light that look like northern light\", \"That's why they want to catch the northern light\", \"Because they thought it's a special food and sunlight light\", 'But actually you can make the same effect in your computer', 'But I thought the lights can dance', 'Huh?', 'I thought some got frostbite when they have', \"Because they stay out in the cold for too long that's why\", 'Well', 'Until the light make them freeze', \"That's why it's called make them freeze\", \"That's why they make them frozen light\", 'Do you feel like camping over there?', 'Not really', 'Why?'], [\"That's why they make them frozen light\", 'Do you feel like camping over there?', 'Not really', 'Why?', 'You camp there you can do what? What can you do?', 'You want northern light easy la', 'Just buy a lamp', 'Then you make it like green colour then it become like northern light', 'Wow', 'Then how about the dancing effect?', 'Dancing effect you make the lamp move around la', 'Then become moving dancing light la', 'Same as the same effect northern light', \"That's so creative\", 'Yeah', \"That's very interesting\", \"That's the man-made northern light\", 'Wow', \"So you don't need to worry about paying all the etiquette, accommodation and all your transfer to\"], [\"That's very interesting\", \"That's the man-made northern light\", 'Wow', \"So you don't need to worry about paying all the etiquette, accommodation and all your transfer to\", 'To see the northern light', \"That's a great idea\", \"You won't get frostbite for sure\", 'Wow', '100%', 'Then how about the husky dogs?', 'Husky dog you can go to Thailand no problem', 'I want to go to the husky dog cafe', 'You can go yourself thank you', 'Please', 'I want to go to the raccoon cafe in Seoul, South Korea', 'Raccoon la that one', 'The raccoon was nothing', \"That's the creature in the gallows\", 'Guardians of the gallows'], ['Raccoon la that one', 'The raccoon was nothing', \"That's the creature in the gallows\", 'Guardians of the gallows', 'Then you go and find the guardian of the gallows', 'That one is the red raccoon', 'That one is the talking raccoon', 'Yeah I like the talking raccoon', \"The talking raccoon can't talk\", 'Also you bring me there maybe the raccoon can talk', \"I don't think so la\", 'You might say you do stupid raccoon', 'They will just go you back', \"That's the talking raccoon\", 'Then you what are you talking about?', 'Ah tu tu tu tu tu', 'Then you become the', 'The listar', \"What's the name la?\"], ['Ah tu tu tu tu tu', 'Then you become the', 'The listar', \"What's the name la?\", 'Forget', 'Guardians of the gallows', 'Oh yeah', 'Wow', 'Baron', 'Very good', 'So', \"So I think it's\", 'So if you want to see the real raccoon', 'Please go and find the raccoon member', 'In the guardians of the gallows', 'He will wait for you in the universe', 'In some very far away universe', 'So for sports and fitness', 'How do you keep fit?'], ['He will wait for you in the universe', 'In some very far away universe', 'So for sports and fitness', 'How do you keep fit?', 'I keep fit anywhere', 'On the bed', 'Hey', \"You can't say that sir\", 'On the water bed', 'On the water bed because I do water sports']]\n",
      "Strided Chunk Indices: [[0, 1, 2, 3, 4, 5, 6, 7, 8, 9, 10, 11, 12, 13, 14, 15, 16], [13, 14, 15, 16, 17, 18, 19, 20, 21, 22, 23, 24, 25, 26, 27, 28, 29, 30, 31], [28, 29, 30, 31, 32, 33, 34, 35, 36, 37, 38, 39, 40, 41, 42, 43, 44, 45, 46], [43, 44, 45, 46, 47, 48, 49, 50, 51, 52, 53, 54, 55, 56, 57, 58, 59, 60, 61], [58, 59, 60, 61, 62, 63, 64, 65, 66, 67, 68, 69, 70, 71, 72, 73, 74, 75, 76], [73, 74, 75, 76, 77, 78, 79, 80, 81, 82, 83, 84, 85, 86, 87, 88, 89, 90, 91], [88, 89, 90, 91, 92, 93, 94, 95, 96, 97, 98, 99, 100, 101, 102, 103, 104, 105, 106], [103, 104, 105, 106, 107, 108, 109, 110, 111, 112]]\n"
     ]
    }
   ],
   "source": [
    "def chunk_with_stride_and_indices(initial_list: list, stride: int, number_of_chunks: int):\n",
    "\tN = len(initial_list)\n",
    "\tchunk_indices = list(range(0, N))\n",
    "\n",
    "\t# Calculate the size of each chunk\n",
    "\tchunk_size = (N + number_of_chunks - 1) // number_of_chunks\n",
    "\n",
    "\t# Create initial chunks\n",
    "\tinitial_chunks = [initial_list[i * chunk_size:(i + 1) * chunk_size] for i in range(number_of_chunks)]\n",
    "\tinitial_chunk_indices = [chunk_indices[i * chunk_size:(i + 1) * chunk_size] for i in range(number_of_chunks)]\n",
    "\n",
    "\tstride_chunks = []\n",
    "\tstride_chunk_indices = []  # Track indices for each strided chunk\n",
    "\n",
    "\tfor chunk_index in range(len(initial_chunks)):\n",
    "\t\tcurrent_chunk = deque(initial_chunks[chunk_index])\n",
    "\t\tcurrent_indices = deque(initial_chunk_indices[chunk_index])\n",
    "\n",
    "\t\tif chunk_index > 0:  # For all chunks except the first, prepend elements from the previous chunk\n",
    "\t\t\tprevious_chunk_elements = initial_chunks[chunk_index - 1][-stride:]\n",
    "\t\t\tprevious_indices = initial_chunk_indices[chunk_index - 1][-stride:]\n",
    "\n",
    "\t\t\tfor past_element, past_index in zip(reversed(previous_chunk_elements), reversed(previous_indices)):\n",
    "\t\t\t\tcurrent_chunk.appendleft(past_element)\n",
    "\t\t\t\tcurrent_indices.appendleft(past_index)\n",
    "\n",
    "\t\tif chunk_index < len(initial_chunks) - 1:  # For all chunks except the last, append elements from the next chunk\n",
    "\t\t\tfuture_chunk_elements = initial_chunks[chunk_index + 1][:stride]\n",
    "\t\t\tfuture_indices = initial_chunk_indices[chunk_index + 1][:stride]\n",
    "\n",
    "\t\t\tfor future_element, future_index in zip(future_chunk_elements, future_indices):\n",
    "\t\t\t\tcurrent_chunk.append(future_element)\n",
    "\t\t\t\tcurrent_indices.append(future_index)\n",
    "\n",
    "\t\tstride_chunks.append(list(current_chunk))\n",
    "\t\tstride_chunk_indices.append(list(current_indices))\n",
    "\n",
    "\tprint(\"Strided Chunks:\", stride_chunks)\n",
    "\tprint(\"Strided Chunk Indices:\", stride_chunk_indices)\n",
    "\treturn stride_chunks, stride_chunk_indices\n",
    "\n",
    "\n",
    "strided_chunks, strided_chunk_indices = chunk_with_stride_and_indices(per_line, STRIDE, NUMBER_OF_CHUNKS)"
   ]
  },
  {
   "cell_type": "code",
   "execution_count": 157,
   "id": "1b33b5c73444c063",
   "metadata": {
    "collapsed": false,
    "ExecuteTime": {
     "end_time": "2024-03-25T15:47:29.255076Z",
     "start_time": "2024-03-25T15:47:29.248198Z"
    }
   },
   "outputs": [
    {
     "name": "stdout",
     "output_type": "stream",
     "text": [
      "Indices 1: [0, 1, 2, 3, 4, 5, 6, 7, 8, 9, 10, 11, 12, 13, 14, 15]\n",
      "Indices 2: [14, 15, 16, 17, 18, 19, 20, 21, 22, 23, 24, 25, 26, 27, 28, 29, 30]\n",
      "Indices 3: [29, 30, 31, 32, 33, 34, 35, 36, 37, 38, 39, 40, 41, 42, 43, 44, 45]\n",
      "Indices 4: [44, 45, 46, 47, 48, 49, 50, 51, 52, 53, 54, 55, 56, 57, 58, 59, 60]\n",
      "Indices 5: [59, 60, 61, 62, 63, 64, 65, 66, 67, 68, 69, 70, 71, 72, 73, 74, 75]\n",
      "Indices 6: [74, 75, 76, 77, 78, 79, 80, 81, 82, 83, 84, 85, 86, 87, 88, 89, 90]\n",
      "Indices 7: [89, 90, 91, 92, 93, 94, 95, 96, 97, 98, 99, 100, 101, 102, 103, 104, 105]\n",
      "Indices 8: [104, 105, 106, 107, 108, 109, 110, 111, 112]\n"
     ]
    }
   ],
   "source": [
    "def chunk_with_stride_and_indices(initial_list: list, stride: int, number_of_chunks: int):\n",
    "\tstride -= 1\n",
    "\tN = len(initial_list)\n",
    "\n",
    "\t# Calculate base chunk size without considering stride for simplicity\n",
    "\tbase_chunk_size = (N + number_of_chunks - 1) // number_of_chunks\n",
    "\n",
    "\t# Prepare initial chunks without stride\n",
    "\tinitial_chunks = [initial_list[i * base_chunk_size:(i + 1) * base_chunk_size] for i in range(number_of_chunks)]\n",
    "\tinitial_chunk_indices = [list(range(i * base_chunk_size, min((i + 1) * base_chunk_size, N))) for i in\n",
    "\t                         range(number_of_chunks)]\n",
    "\n",
    "\tstride_chunks = []\n",
    "\tstride_chunk_indices = []\n",
    "\n",
    "\tfor i in range(number_of_chunks):\n",
    "\t\t# Calculate the effective start and end, incorporating stride where applicable\n",
    "\t\tstart = max(0, i * base_chunk_size - stride)\n",
    "\t\tend = min(N, (i + 1) * base_chunk_size + stride if i < number_of_chunks - 1 else N)\n",
    "\n",
    "\t\t# Slice the original list and indices accordingly\n",
    "\t\tcurrent_chunk = initial_list[start:end]\n",
    "\t\tcurrent_indices = list(range(start, end))\n",
    "\n",
    "\t\tstride_chunks.append(current_chunk)\n",
    "\t\tstride_chunk_indices.append(current_indices)\n",
    "\n",
    "\treturn stride_chunks, stride_chunk_indices\n",
    "\n",
    "\n",
    "strided_chunks, strided_chunk_indices = chunk_with_stride_and_indices(per_line, stride=STRIDE, number_of_chunks=NUMBER_OF_CHUNKS)\n",
    "# Demonstrating output\n",
    "for i, (chunk, indices) in enumerate(zip(strided_chunks, strided_chunk_indices), start=1):\n",
    "\t# print(f\"Chunk {i}: {chunk}\")\n",
    "\tprint(f\"Indices {i}: {indices}\")"
   ]
  },
  {
   "cell_type": "code",
   "execution_count": 158,
   "id": "ffa3bce92c373549",
   "metadata": {
    "collapsed": false,
    "ExecuteTime": {
     "end_time": "2024-03-25T15:47:31.332597Z",
     "start_time": "2024-03-25T15:47:31.325246Z"
    }
   },
   "outputs": [
    {
     "data": {
      "text/plain": "[['or the caribor, when I get you up especially when you look like a piggy',\n  'Who said so?',\n  'I said, oh very nice man',\n  'Oh so do you drive there?',\n  'No I walk over there',\n  'Really? Huh?',\n  'I walk over there',\n  'How do you walk?',\n  'I can walk no problem at all',\n  'How many kilometer you walk?',\n  \"I can't remember\",\n  \"Because I walk until my legs don't fit\",\n  'So will you go there?',\n  'Will you go back again?',\n  \"I don't think so, one season down\",\n  'Why?'],\n [\"I don't think so, one season down\",\n  'Why?',\n  \"Because it's too much\",\n  'So which is your next destination?',\n  'Maybe next one go to another part of Africa',\n  'Oh',\n  \"Western Africa, no it's more challenging\",\n  'Oh is it?',\n  \"Because it's more fun than what you expect to be\",\n  \"Then why don't you go to South Australia?\",\n  'South Australia',\n  'Yeah, southern lights',\n  'So Australia is nothing compared to Africa',\n  'Because Africa is a very wild place to go',\n  'Yeah I mean',\n  \"Until you go until you say, I don't want to go again\",\n  'Because Australia you go you want to go again and again and again'],\n [\"Until you go until you say, I don't want to go again\",\n  'Because Australia you go you want to go again and again and again',\n  'But why do so many people want to catch the northern lights?',\n  \"Because there's no natural light that look like northern light\",\n  \"That's why they want to catch the northern light\",\n  \"Because they thought it's a special food and sunlight light\",\n  'But actually you can make the same effect in your computer',\n  'But I thought the lights can dance',\n  'Huh?',\n  'I thought some got frostbite when they have',\n  \"Because they stay out in the cold for too long that's why\",\n  'Well',\n  'Until the light make them freeze',\n  \"That's why it's called make them freeze\",\n  \"That's why they make them frozen light\",\n  'Do you feel like camping over there?',\n  'Not really'],\n ['Do you feel like camping over there?',\n  'Not really',\n  'Why?',\n  'You camp there you can do what? What can you do?',\n  'You want northern light easy la',\n  'Just buy a lamp',\n  'Then you make it like green colour then it become like northern light',\n  'Wow',\n  'Then how about the dancing effect?',\n  'Dancing effect you make the lamp move around la',\n  'Then become moving dancing light la',\n  'Same as the same effect northern light',\n  \"That's so creative\",\n  'Yeah',\n  \"That's very interesting\",\n  \"That's the man-made northern light\",\n  'Wow'],\n [\"That's the man-made northern light\",\n  'Wow',\n  \"So you don't need to worry about paying all the etiquette, accommodation and all your transfer to\",\n  'To see the northern light',\n  \"That's a great idea\",\n  \"You won't get frostbite for sure\",\n  'Wow',\n  '100%',\n  'Then how about the husky dogs?',\n  'Husky dog you can go to Thailand no problem',\n  'I want to go to the husky dog cafe',\n  'You can go yourself thank you',\n  'Please',\n  'I want to go to the raccoon cafe in Seoul, South Korea',\n  'Raccoon la that one',\n  'The raccoon was nothing',\n  \"That's the creature in the gallows\"],\n ['The raccoon was nothing',\n  \"That's the creature in the gallows\",\n  'Guardians of the gallows',\n  'Then you go and find the guardian of the gallows',\n  'That one is the red raccoon',\n  'That one is the talking raccoon',\n  'Yeah I like the talking raccoon',\n  \"The talking raccoon can't talk\",\n  'Also you bring me there maybe the raccoon can talk',\n  \"I don't think so la\",\n  'You might say you do stupid raccoon',\n  'They will just go you back',\n  \"That's the talking raccoon\",\n  'Then you what are you talking about?',\n  'Ah tu tu tu tu tu',\n  'Then you become the',\n  'The listar'],\n ['Then you become the',\n  'The listar',\n  \"What's the name la?\",\n  'Forget',\n  'Guardians of the gallows',\n  'Oh yeah',\n  'Wow',\n  'Baron',\n  'Very good',\n  'So',\n  \"So I think it's\",\n  'So if you want to see the real raccoon',\n  'Please go and find the raccoon member',\n  'In the guardians of the gallows',\n  'He will wait for you in the universe',\n  'In some very far away universe',\n  'So for sports and fitness'],\n ['In some very far away universe',\n  'So for sports and fitness',\n  'How do you keep fit?',\n  'I keep fit anywhere',\n  'On the bed',\n  'Hey',\n  \"You can't say that sir\",\n  'On the water bed',\n  'On the water bed because I do water sports']]"
     },
     "execution_count": 158,
     "metadata": {},
     "output_type": "execute_result"
    }
   ],
   "source": [
    "strided_chunks"
   ]
  },
  {
   "cell_type": "code",
   "execution_count": 159,
   "id": "b0404866cba96184",
   "metadata": {
    "collapsed": false,
    "ExecuteTime": {
     "end_time": "2024-03-25T15:47:32.153065Z",
     "start_time": "2024-03-25T15:47:32.147732Z"
    }
   },
   "outputs": [
    {
     "data": {
      "text/plain": "[[0, 1, 2, 3, 4, 5, 6, 7, 8, 9, 10, 11, 12, 13, 14, 15],\n [14, 15, 16, 17, 18, 19, 20, 21, 22, 23, 24, 25, 26, 27, 28, 29, 30],\n [29, 30, 31, 32, 33, 34, 35, 36, 37, 38, 39, 40, 41, 42, 43, 44, 45],\n [44, 45, 46, 47, 48, 49, 50, 51, 52, 53, 54, 55, 56, 57, 58, 59, 60],\n [59, 60, 61, 62, 63, 64, 65, 66, 67, 68, 69, 70, 71, 72, 73, 74, 75],\n [74, 75, 76, 77, 78, 79, 80, 81, 82, 83, 84, 85, 86, 87, 88, 89, 90],\n [89, 90, 91, 92, 93, 94, 95, 96, 97, 98, 99, 100, 101, 102, 103, 104, 105],\n [104, 105, 106, 107, 108, 109, 110, 111, 112]]"
     },
     "execution_count": 159,
     "metadata": {},
     "output_type": "execute_result"
    }
   ],
   "source": [
    "strided_chunk_indices"
   ]
  },
  {
   "cell_type": "markdown",
   "id": "465603f3fd33b9de",
   "metadata": {
    "collapsed": false
   },
   "source": [
    "## Naive Strided Chunk Diarization (without speaker label history)\n",
    "We will now perform diarization on the strided chunks, without incorporating the speaker labels from the previous strides. This will allow us to gauge the accuracy of the model in diarizing the text without any historical context.\n",
    "\n",
    "This method introduces an approach to update audio chunks by incorporating strides, adding context from both past and future segments, to enhance the diarization process.\n",
    "\n",
    "- **Backstride**: Elements from preceding segments\n",
    "- **Forwardstride**: Elements from subsequent segments\n",
    "\n",
    "An improvement involves adjusting each chunk to include additional context from preceding elements, thereby enriching the information available for more accurate speaker diarization.\n",
    "\n",
    "### Example:\n",
    "Let's examine how the chunked list is altered with a stride of `a=2`:\n",
    "\n",
    "- **Initial chunked list**: `[[0, 1, 2, 3, 4, 5], [6, 7, 8, 9, 10, 11], [12, 13, 14, 15, 16, 17], [18, 19, 20, 21]]`\n",
    "- **Updated with stride**: `[[0, 1, 2, 3, 4, 5], [4, 5, 6, 7, 8, 9, 10, 11, 12, 13], [10, 11, 12, 13, 14, 15, 16, 17, 18, 19], [16, 17, 18, 19, 20, 21]]`\n",
    "\n",
    "In the diarization process, starting with the second chunk `[4, 5, 6, 7, 8, 9, 10, 11, 12, 13]`, context is enriched by incorporating sentences from the `backstride`. For example, if the elements `4` and `5` offer specific lexicon information pertinent to a prior diarization session, this contextual information aids the LLM in generating more accurate diarization outcomes without explicitly relying on speaker labels.\n"
   ]
  },
  {
   "cell_type": "code",
   "execution_count": 160,
   "id": "580b1999e38fb150",
   "metadata": {
    "collapsed": false,
    "ExecuteTime": {
     "end_time": "2024-03-25T15:47:57.315064Z",
     "start_time": "2024-03-25T15:47:34.137680Z"
    }
   },
   "outputs": [
    {
     "name": "stdout",
     "output_type": "stream",
     "text": [
      "[\"['Speaker 1', 'Speaker 1', 'Speaker 2', 'Speaker 2', 'Speaker 2', 'Speaker 2', 'Speaker 2', 'Speaker 2', 'Speaker 2', 'Speaker 2', 'Speaker 2', 'Speaker 2', 'Speaker 2', 'Speaker 2', 'Speaker 2', 'Speaker 2', 'Speaker 2']\", \"['Speaker 1', 'Speaker 1', 'Speaker 2', 'Speaker 2', 'Speaker 2', 'Speaker 2', 'Speaker 2', 'Speaker 2', 'Speaker 2', 'Speaker 2', 'Speaker 2', 'Speaker 2', 'Speaker 2', 'Speaker 2', 'Speaker 2', 'Speaker 2', 'Speaker 2', 'Speaker 2', 'Speaker 2', 'Speaker 2', 'Speaker 2', 'Speaker 2', 'Speaker 2', 'Speaker 2', 'Speaker 2', 'Speaker 2', 'Speaker 2', 'Speaker 2', 'Speaker 2', 'Speaker 2', 'Speaker 2', 'Speaker 2', 'Speaker 2', 'Speaker 2', 'Speaker 2', 'Speaker 2', 'Speaker 2', 'Speaker 2', 'Speaker 2', 'Speaker 2', 'Speaker 2', 'Speaker 2', 'Speaker 2', 'Speaker 2', 'Speaker 2', 'Speaker 2', 'Speaker 2', 'Speaker 2', 'Speaker 2', 'Speaker 2', 'Speaker 2']\", \"['Speaker 1', 'Speaker 1', 'Speaker 1', 'Speaker 1', 'Speaker 1', 'Speaker 1', 'Speaker 1', 'Speaker 2', 'Speaker 2', 'Speaker 2', 'Speaker 2', 'Speaker 2', 'Speaker 2', 'Speaker 2', 'Speaker 2', 'Speaker 2']\", \"['Speaker 1', 'Speaker 2', 'Speaker 2', 'Speaker 1', 'Speaker 1', 'Speaker 2', 'Speaker 2', 'Speaker 1', 'Speaker 1', 'Speaker 2', 'Speaker 2', 'Speaker 2', 'Speaker 1', 'Speaker 1', 'Speaker 1', 'Speaker 2', 'Speaker 2', 'Speaker 2', 'Speaker 1', 'Speaker 1']\", \"['Speaker 1', 'Speaker 1', 'Speaker 1', 'Speaker 1', 'Speaker 1', 'Speaker 1', 'Speaker 1', 'Speaker 1', 'Speaker 1', 'Speaker 1', 'Speaker 1', 'Speaker 1', 'Speaker 1', 'Speaker 1', 'Speaker 1', 'Speaker 1', 'Speaker 1', 'Speaker 1', 'Speaker 1']\", \"['Speaker 1', 'Speaker 2', 'Speaker 2', 'Speaker 2', 'Speaker 2', 'Speaker 2', 'Speaker 2', 'Speaker 2', 'Speaker 2', 'Speaker 2', 'Speaker 2', 'Speaker 2', 'Speaker 2', 'Speaker 2', 'Speaker 2', 'Speaker 2']\", \"['Speaker 1', 'Speaker 1', 'Speaker 1', 'Speaker 1', 'Speaker 1', 'Speaker 1', 'Speaker 1', 'Speaker 1', 'Speaker 1', 'Speaker 1', 'Speaker 1', 'Speaker 1', 'Speaker 1', 'Speaker 1', 'Speaker 1', 'Speaker 1', 'Speaker 1', 'Speaker 1', 'Speaker 1', 'Speaker 1...\", \"['Speaker 1', 'Speaker 1', 'Speaker 1', 'Speaker 1', 'Speaker 1', 'Speaker 2', 'Speaker 2', 'Speaker 2', 'Speaker 2', 'Speaker 2']\"]\n"
     ]
    }
   ],
   "source": [
    "# Strided Chunk-based diarization without speaker labels\n",
    "\n",
    "speaker_labels = []\n",
    "\n",
    "for strided_chunk in strided_chunks:\n",
    "\tstrided_formatted = '\\n'.join(strided_chunk)\n",
    "\tdiarization = client.chat.completions.create(\n",
    "\t\tmodel=DEPLOYMENT,\n",
    "\t\tmessages=[\n",
    "\t\t\t{\"role\": \"system\",\n",
    "\t\t\t \"content\": \"You are a linguistics expert with 50 years of experience. You will be given a list of sentences seperated by newlines, and you are to assign the Speaker label to each sentence PER line. I.e. Given the prompt, you will return me: ['Speaker 1', 'Speaker 2', 'Speaker 2']. There is a possibility that a speaker may speak for more than 1 line at time.\"},\n",
    "\t\t\t{\"role\": \"user\",\n",
    "\t\t\t \"content\": f\"Here is the list of sentences: {strided_formatted}. You will diarize ALL the sentences in the list. JUST RETURN ME THE LIST. You WILL ensure that you labeled EVERY line. You will return me: ['Speaker 1', 'Speaker 2', 'Speaker 2']\"}\n",
    "\t\t],\n",
    "\t\tmax_tokens=2000,\n",
    "\t\tstream=False,\n",
    "\t\ttemperature=0.5,\n",
    "\t)\n",
    "\tend_result = diarization.choices[0].message.content\n",
    "\tspeaker_labels.append(end_result)\n",
    "\n",
    "print(speaker_labels)"
   ]
  },
  {
   "cell_type": "markdown",
   "id": "160860c3bec680c4",
   "metadata": {
    "collapsed": false
   },
   "source": [
    "As you can see, there are occurrences of a `Speaker 3`, which is incorrect. This is due to the model not being able to accurately diarize the text without historical context. We will now proceed to the next step, where we will incorporate the speaker labels from the previous strides into the diarization context."
   ]
  },
  {
   "cell_type": "markdown",
   "id": "ae4cb0903da149df",
   "metadata": {
    "collapsed": false
   },
   "source": [
    "## Label-Aware Adaptive Diarization\n",
    "\n",
    "With the strategy of updating chunks to include strides (for incorporating past and future context), the next step involves implementing a function to iterate through this modified chunk list for diarization purposes.\n",
    "\n",
    "- **Backstride**: Elements from the past stride\n",
    "- **Forwardstride**: Elements from the future stride\n",
    "\n",
    "__Additionally__, an enhancement will be integrated where each chunk, upon submission, will carry the respective speaker labels for the preceding `a` elements, enriching the context for improved accuracy.\n",
    "\n",
    "### Example:\n",
    "Consider the initial chunked list and its updated version with a stride `a=2`:\n",
    "\n",
    "- **Initial chunked list**: `[[0, 1, 2, 3, 4, 5], [6, 7, 8, 9, 10, 11], [12, 13, 14, 15, 16, 17], [18, 19, 20, 21]]`\n",
    "- **Updated with stride**: `[[0, 1, 2, 3, 4, 5], [4, 5, 6, 7, 8, 9, 10, 11, 12, 13], [10, 11, 12, 13, 14, 15, 16, 17, 18, 19], [16, 17, 18, 19, 20, 21]]`\n",
    "\n",
    "For diarization, beginning with chunk 1 (`0<=i<x`), specifically the second chunk `[4, 5, 6, 7, 8, 9, 10, 11, 12, 13]`, the last `a=2` speaker labels from the `backstride` will be incorporated into the context. \n",
    "\n",
    "If, for instance, the speaker labels for elements `4` and `5` are `Speaker 1`, this provides the Language Model (LLM) with valuable historical context from the previous diarization session, hypothetically enabling more precise diarization results.\n"
   ]
  },
  {
   "cell_type": "code",
   "execution_count": 164,
   "id": "1b3bd922a9b5452d",
   "metadata": {
    "collapsed": false,
    "ExecuteTime": {
     "end_time": "2024-03-25T15:49:18.180720Z",
     "start_time": "2024-03-25T15:49:18.163289Z"
    }
   },
   "outputs": [
    {
     "data": {
      "text/plain": "                                              original  \\\n0    or the caribor, when I get you up especially w...   \n1                                         Who said so?   \n2                             I said, oh very nice man   \n3                            Oh so do you drive there?   \n4                                 No I walk over there   \n..                                                 ...   \n108                                         On the bed   \n109                                                Hey   \n110                             You can't say that sir   \n111                                   On the water bed   \n112         On the water bed because I do water sports   \n\n                                       strided_chunk_0 strided_chunk_1  \\\n0    or the caribor, when I get you up especially w...             NaN   \n1                                         Who said so?             NaN   \n2                             I said, oh very nice man             NaN   \n3                            Oh so do you drive there?             NaN   \n4                                 No I walk over there             NaN   \n..                                                 ...             ...   \n108                                                NaN             NaN   \n109                                                NaN             NaN   \n110                                                NaN             NaN   \n111                                                NaN             NaN   \n112                                                NaN             NaN   \n\n    strided_chunk_2 strided_chunk_3 strided_chunk_4 strided_chunk_5  \\\n0               NaN             NaN             NaN             NaN   \n1               NaN             NaN             NaN             NaN   \n2               NaN             NaN             NaN             NaN   \n3               NaN             NaN             NaN             NaN   \n4               NaN             NaN             NaN             NaN   \n..              ...             ...             ...             ...   \n108             NaN             NaN             NaN             NaN   \n109             NaN             NaN             NaN             NaN   \n110             NaN             NaN             NaN             NaN   \n111             NaN             NaN             NaN             NaN   \n112             NaN             NaN             NaN             NaN   \n\n    strided_chunk_6                             strided_chunk_7  \n0               NaN                                         NaN  \n1               NaN                                         NaN  \n2               NaN                                         NaN  \n3               NaN                                         NaN  \n4               NaN                                         NaN  \n..              ...                                         ...  \n108             NaN                                  On the bed  \n109             NaN                                         Hey  \n110             NaN                      You can't say that sir  \n111             NaN                            On the water bed  \n112             NaN  On the water bed because I do water sports  \n\n[113 rows x 9 columns]",
      "text/html": "<div>\n<style scoped>\n    .dataframe tbody tr th:only-of-type {\n        vertical-align: middle;\n    }\n\n    .dataframe tbody tr th {\n        vertical-align: top;\n    }\n\n    .dataframe thead th {\n        text-align: right;\n    }\n</style>\n<table border=\"1\" class=\"dataframe\">\n  <thead>\n    <tr style=\"text-align: right;\">\n      <th></th>\n      <th>original</th>\n      <th>strided_chunk_0</th>\n      <th>strided_chunk_1</th>\n      <th>strided_chunk_2</th>\n      <th>strided_chunk_3</th>\n      <th>strided_chunk_4</th>\n      <th>strided_chunk_5</th>\n      <th>strided_chunk_6</th>\n      <th>strided_chunk_7</th>\n    </tr>\n  </thead>\n  <tbody>\n    <tr>\n      <th>0</th>\n      <td>or the caribor, when I get you up especially w...</td>\n      <td>or the caribor, when I get you up especially w...</td>\n      <td>NaN</td>\n      <td>NaN</td>\n      <td>NaN</td>\n      <td>NaN</td>\n      <td>NaN</td>\n      <td>NaN</td>\n      <td>NaN</td>\n    </tr>\n    <tr>\n      <th>1</th>\n      <td>Who said so?</td>\n      <td>Who said so?</td>\n      <td>NaN</td>\n      <td>NaN</td>\n      <td>NaN</td>\n      <td>NaN</td>\n      <td>NaN</td>\n      <td>NaN</td>\n      <td>NaN</td>\n    </tr>\n    <tr>\n      <th>2</th>\n      <td>I said, oh very nice man</td>\n      <td>I said, oh very nice man</td>\n      <td>NaN</td>\n      <td>NaN</td>\n      <td>NaN</td>\n      <td>NaN</td>\n      <td>NaN</td>\n      <td>NaN</td>\n      <td>NaN</td>\n    </tr>\n    <tr>\n      <th>3</th>\n      <td>Oh so do you drive there?</td>\n      <td>Oh so do you drive there?</td>\n      <td>NaN</td>\n      <td>NaN</td>\n      <td>NaN</td>\n      <td>NaN</td>\n      <td>NaN</td>\n      <td>NaN</td>\n      <td>NaN</td>\n    </tr>\n    <tr>\n      <th>4</th>\n      <td>No I walk over there</td>\n      <td>No I walk over there</td>\n      <td>NaN</td>\n      <td>NaN</td>\n      <td>NaN</td>\n      <td>NaN</td>\n      <td>NaN</td>\n      <td>NaN</td>\n      <td>NaN</td>\n    </tr>\n    <tr>\n      <th>...</th>\n      <td>...</td>\n      <td>...</td>\n      <td>...</td>\n      <td>...</td>\n      <td>...</td>\n      <td>...</td>\n      <td>...</td>\n      <td>...</td>\n      <td>...</td>\n    </tr>\n    <tr>\n      <th>108</th>\n      <td>On the bed</td>\n      <td>NaN</td>\n      <td>NaN</td>\n      <td>NaN</td>\n      <td>NaN</td>\n      <td>NaN</td>\n      <td>NaN</td>\n      <td>NaN</td>\n      <td>On the bed</td>\n    </tr>\n    <tr>\n      <th>109</th>\n      <td>Hey</td>\n      <td>NaN</td>\n      <td>NaN</td>\n      <td>NaN</td>\n      <td>NaN</td>\n      <td>NaN</td>\n      <td>NaN</td>\n      <td>NaN</td>\n      <td>Hey</td>\n    </tr>\n    <tr>\n      <th>110</th>\n      <td>You can't say that sir</td>\n      <td>NaN</td>\n      <td>NaN</td>\n      <td>NaN</td>\n      <td>NaN</td>\n      <td>NaN</td>\n      <td>NaN</td>\n      <td>NaN</td>\n      <td>You can't say that sir</td>\n    </tr>\n    <tr>\n      <th>111</th>\n      <td>On the water bed</td>\n      <td>NaN</td>\n      <td>NaN</td>\n      <td>NaN</td>\n      <td>NaN</td>\n      <td>NaN</td>\n      <td>NaN</td>\n      <td>NaN</td>\n      <td>On the water bed</td>\n    </tr>\n    <tr>\n      <th>112</th>\n      <td>On the water bed because I do water sports</td>\n      <td>NaN</td>\n      <td>NaN</td>\n      <td>NaN</td>\n      <td>NaN</td>\n      <td>NaN</td>\n      <td>NaN</td>\n      <td>NaN</td>\n      <td>On the water bed because I do water sports</td>\n    </tr>\n  </tbody>\n</table>\n<p>113 rows × 9 columns</p>\n</div>"
     },
     "execution_count": 164,
     "metadata": {},
     "output_type": "execute_result"
    }
   ],
   "source": [
    "import pandas as pd\n",
    "import numpy as np\n",
    "\n",
    "comparison_df = pd.DataFrame({'original': per_line})\n",
    "# Calculate the min and max to define the range of the DataFrame index\n",
    "min_val = min(min(sublist) for sublist in strided_chunk_indices)\n",
    "max_val = max(max(sublist) for sublist in strided_chunk_indices)\n",
    "\n",
    "# Create a DataFrame with the correct indices\n",
    "strided_chunk_df = pd.DataFrame(index=np.arange(min_val, max_val + 1))\n",
    "\n",
    "# Populate the DataFrame with the data\n",
    "for i, sublist in enumerate(strided_chunk_indices):\n",
    "\tstrided_chunk_df[f'strided_chunk_{i}'] = pd.Series(index=sublist, data=strided_chunks[i])\n",
    "\n",
    "combined_df = pd.concat([comparison_df, strided_chunk_df], axis=1)\n",
    "\n",
    "combined_df"
   ]
  },
  {
   "cell_type": "markdown",
   "id": "e42610561f9ac3c2",
   "metadata": {
    "collapsed": false
   },
   "source": [
    "## Performing Label-Aware Adaptive Diarization\n",
    "Doing the initial chunk: `i=0`"
   ]
  },
  {
   "cell_type": "code",
   "outputs": [
    {
     "name": "stdout",
     "output_type": "stream",
     "text": [
      "17\n",
      "{\"I don't think so, one season down\": 'Speaker 1', 'Why?': 'Speaker 2'}\n",
      "[\"I don't think so, one season down\", 'Why?', \"Because it's too much\", 'So which is your next destination?', 'Maybe next one go to another part of Africa', 'Oh', \"Western Africa, no it's more challenging\", 'Oh is it?', \"Because it's more fun than what you expect to be\", \"Then why don't you go to South Australia?\", 'South Australia', 'Yeah, southern lights', 'So Australia is nothing compared to Africa', 'Because Africa is a very wild place to go', 'Yeah I mean', \"Until you go until you say, I don't want to go again\", 'Because Australia you go you want to go again and again and again']\n",
      "['Speaker 1', 'Speaker 2', 'Speaker 2', 'Speaker 1', 'Speaker 2', 'Speaker 2', 'Speaker 1', 'Speaker 2', 'Speaker 2', 'Speaker 1', 'Speaker 2', 'Speaker 2', 'Speaker 1', 'Speaker 2', 'Speaker 2', 'Speaker 1', 'Speaker 2']\n",
      "17\n",
      "{'Do you feel like camping over there?': 'Speaker 1', 'Not really': 'Speaker 2'}\n",
      "[\"Until you go until you say, I don't want to go again\", 'Because Australia you go you want to go again and again and again', 'But why do so many people want to catch the northern lights?', \"Because there's no natural light that look like northern light\", \"That's why they want to catch the northern light\", \"Because they thought it's a special food and sunlight light\", 'But actually you can make the same effect in your computer', 'But I thought the lights can dance', 'Huh?', 'I thought some got frostbite when they have', \"Because they stay out in the cold for too long that's why\", 'Well', 'Until the light make them freeze', \"That's why it's called make them freeze\", \"That's why they make them frozen light\", 'Do you feel like camping over there?', 'Not really']\n",
      "['Speaker 1', 'Speaker 1', 'Speaker 1', 'Speaker 1', 'Speaker 1', 'Speaker 1', 'Speaker 1', 'Speaker 1', 'Speaker 2', 'Speaker 2', 'Speaker 2', 'Speaker 2', 'Speaker 2', 'Speaker 2', 'Speaker 1', 'Speaker 2']\n"
     ]
    },
    {
     "ename": "ValueError",
     "evalue": "Length of values (16) does not match length of index (17)",
     "output_type": "error",
     "traceback": [
      "\u001B[0;31m---------------------------------------------------------------------------\u001B[0m",
      "\u001B[0;31mValueError\u001B[0m                                Traceback (most recent call last)",
      "Cell \u001B[0;32mIn[165], line 97\u001B[0m\n\u001B[1;32m     91\u001B[0m \t\ttotal_label_list\u001B[38;5;241m.\u001B[39mappend(speaker_labels_converted)\n\u001B[1;32m     93\u001B[0m \t\t\u001B[38;5;66;03m# print(len(total_label_list))\u001B[39;00m\n\u001B[0;32m---> 97\u001B[0m \u001B[43mlabel_aware\u001B[49m\u001B[43m(\u001B[49m\u001B[43mSTRIDE\u001B[49m\u001B[43m,\u001B[49m\u001B[43mNUMBER_OF_CHUNKS\u001B[49m\u001B[43m,\u001B[49m\u001B[43mcombined_df\u001B[49m\u001B[43m)\u001B[49m\n\u001B[1;32m     98\u001B[0m \u001B[38;5;66;03m# speaker_labels\u001B[39;00m\n",
      "Cell \u001B[0;32mIn[165], line 61\u001B[0m, in \u001B[0;36mlabel_aware\u001B[0;34m(stride, number_of_chunks, combined_chunk_df)\u001B[0m\n\u001B[1;32m     59\u001B[0m column_name \u001B[38;5;241m=\u001B[39m \u001B[38;5;124m'\u001B[39m\u001B[38;5;124mstrided_chunk_\u001B[39m\u001B[38;5;124m'\u001B[39m\u001B[38;5;241m+\u001B[39m\u001B[38;5;28mstr\u001B[39m(j)\n\u001B[1;32m     60\u001B[0m \u001B[38;5;28;01mif\u001B[39;00m j\u001B[38;5;241m>\u001B[39m\u001B[38;5;241m1\u001B[39m:\n\u001B[0;32m---> 61\u001B[0m \tlabelled_stride_info \u001B[38;5;241m=\u001B[39m \u001B[43mget_stride_info\u001B[49m\u001B[43m(\u001B[49m\u001B[43mj\u001B[49m\u001B[43m,\u001B[49m\u001B[43mtotal_label_list\u001B[49m\u001B[43m)\u001B[49m\n\u001B[1;32m     62\u001B[0m \t\u001B[38;5;66;03m# print(labelled_stride_info)\u001B[39;00m\n\u001B[1;32m     64\u001B[0m current_chunk \u001B[38;5;241m=\u001B[39m combined_chunk_df[column_name]\u001B[38;5;241m.\u001B[39mtolist()\n",
      "Cell \u001B[0;32mIn[165], line 43\u001B[0m, in \u001B[0;36mlabel_aware.<locals>.get_stride_info\u001B[0;34m(chunk_number, total_label_list)\u001B[0m\n\u001B[1;32m     41\u001B[0m stride_info_full \u001B[38;5;241m=\u001B[39m pd\u001B[38;5;241m.\u001B[39mDataFrame(combined_chunk_df[chunk_string]\u001B[38;5;241m.\u001B[39mcopy())\u001B[38;5;241m.\u001B[39mdropna()\n\u001B[1;32m     42\u001B[0m \u001B[38;5;66;03m# print(stride_info_full)\u001B[39;00m\n\u001B[0;32m---> 43\u001B[0m \u001B[43mstride_info_full\u001B[49m\u001B[43m[\u001B[49m\u001B[38;5;124;43m'\u001B[39;49m\u001B[38;5;124;43mspeaker_labels\u001B[39;49m\u001B[38;5;124;43m'\u001B[39;49m\u001B[43m]\u001B[49m \u001B[38;5;241m=\u001B[39m speaker_labels_converted\n\u001B[1;32m     44\u001B[0m stride_info \u001B[38;5;241m=\u001B[39m stride_info_full\u001B[38;5;241m.\u001B[39mcopy()\u001B[38;5;241m.\u001B[39mtail(stride)\u001B[38;5;241m.\u001B[39mto_dict()\n\u001B[1;32m     45\u001B[0m labelled_stride_info \u001B[38;5;241m=\u001B[39m {stride_info[chunk_string][k]: stride_info[\u001B[38;5;124m'\u001B[39m\u001B[38;5;124mspeaker_labels\u001B[39m\u001B[38;5;124m'\u001B[39m][k] \u001B[38;5;28;01mfor\u001B[39;00m k \u001B[38;5;129;01min\u001B[39;00m stride_info[chunk_string]}\n",
      "File \u001B[0;32m~/miniconda3/envs/minutes_gpt/lib/python3.10/site-packages/pandas/core/frame.py:4299\u001B[0m, in \u001B[0;36mDataFrame.__setitem__\u001B[0;34m(self, key, value)\u001B[0m\n\u001B[1;32m   4296\u001B[0m     \u001B[38;5;28mself\u001B[39m\u001B[38;5;241m.\u001B[39m_setitem_array([key], value)\n\u001B[1;32m   4297\u001B[0m \u001B[38;5;28;01melse\u001B[39;00m:\n\u001B[1;32m   4298\u001B[0m     \u001B[38;5;66;03m# set column\u001B[39;00m\n\u001B[0;32m-> 4299\u001B[0m     \u001B[38;5;28;43mself\u001B[39;49m\u001B[38;5;241;43m.\u001B[39;49m\u001B[43m_set_item\u001B[49m\u001B[43m(\u001B[49m\u001B[43mkey\u001B[49m\u001B[43m,\u001B[49m\u001B[43m \u001B[49m\u001B[43mvalue\u001B[49m\u001B[43m)\u001B[49m\n",
      "File \u001B[0;32m~/miniconda3/envs/minutes_gpt/lib/python3.10/site-packages/pandas/core/frame.py:4512\u001B[0m, in \u001B[0;36mDataFrame._set_item\u001B[0;34m(self, key, value)\u001B[0m\n\u001B[1;32m   4502\u001B[0m \u001B[38;5;28;01mdef\u001B[39;00m \u001B[38;5;21m_set_item\u001B[39m(\u001B[38;5;28mself\u001B[39m, key, value) \u001B[38;5;241m-\u001B[39m\u001B[38;5;241m>\u001B[39m \u001B[38;5;28;01mNone\u001B[39;00m:\n\u001B[1;32m   4503\u001B[0m \u001B[38;5;250m    \u001B[39m\u001B[38;5;124;03m\"\"\"\u001B[39;00m\n\u001B[1;32m   4504\u001B[0m \u001B[38;5;124;03m    Add series to DataFrame in specified column.\u001B[39;00m\n\u001B[1;32m   4505\u001B[0m \n\u001B[0;32m   (...)\u001B[0m\n\u001B[1;32m   4510\u001B[0m \u001B[38;5;124;03m    ensure homogeneity.\u001B[39;00m\n\u001B[1;32m   4511\u001B[0m \u001B[38;5;124;03m    \"\"\"\u001B[39;00m\n\u001B[0;32m-> 4512\u001B[0m     value, refs \u001B[38;5;241m=\u001B[39m \u001B[38;5;28;43mself\u001B[39;49m\u001B[38;5;241;43m.\u001B[39;49m\u001B[43m_sanitize_column\u001B[49m\u001B[43m(\u001B[49m\u001B[43mvalue\u001B[49m\u001B[43m)\u001B[49m\n\u001B[1;32m   4514\u001B[0m     \u001B[38;5;28;01mif\u001B[39;00m (\n\u001B[1;32m   4515\u001B[0m         key \u001B[38;5;129;01min\u001B[39;00m \u001B[38;5;28mself\u001B[39m\u001B[38;5;241m.\u001B[39mcolumns\n\u001B[1;32m   4516\u001B[0m         \u001B[38;5;129;01mand\u001B[39;00m value\u001B[38;5;241m.\u001B[39mndim \u001B[38;5;241m==\u001B[39m \u001B[38;5;241m1\u001B[39m\n\u001B[1;32m   4517\u001B[0m         \u001B[38;5;129;01mand\u001B[39;00m \u001B[38;5;129;01mnot\u001B[39;00m \u001B[38;5;28misinstance\u001B[39m(value\u001B[38;5;241m.\u001B[39mdtype, ExtensionDtype)\n\u001B[1;32m   4518\u001B[0m     ):\n\u001B[1;32m   4519\u001B[0m         \u001B[38;5;66;03m# broadcast across multiple columns if necessary\u001B[39;00m\n\u001B[1;32m   4520\u001B[0m         \u001B[38;5;28;01mif\u001B[39;00m \u001B[38;5;129;01mnot\u001B[39;00m \u001B[38;5;28mself\u001B[39m\u001B[38;5;241m.\u001B[39mcolumns\u001B[38;5;241m.\u001B[39mis_unique \u001B[38;5;129;01mor\u001B[39;00m \u001B[38;5;28misinstance\u001B[39m(\u001B[38;5;28mself\u001B[39m\u001B[38;5;241m.\u001B[39mcolumns, MultiIndex):\n",
      "File \u001B[0;32m~/miniconda3/envs/minutes_gpt/lib/python3.10/site-packages/pandas/core/frame.py:5253\u001B[0m, in \u001B[0;36mDataFrame._sanitize_column\u001B[0;34m(self, value)\u001B[0m\n\u001B[1;32m   5250\u001B[0m     \u001B[38;5;28;01mreturn\u001B[39;00m _reindex_for_setitem(value, \u001B[38;5;28mself\u001B[39m\u001B[38;5;241m.\u001B[39mindex)\n\u001B[1;32m   5252\u001B[0m \u001B[38;5;28;01mif\u001B[39;00m is_list_like(value):\n\u001B[0;32m-> 5253\u001B[0m     \u001B[43mcom\u001B[49m\u001B[38;5;241;43m.\u001B[39;49m\u001B[43mrequire_length_match\u001B[49m\u001B[43m(\u001B[49m\u001B[43mvalue\u001B[49m\u001B[43m,\u001B[49m\u001B[43m \u001B[49m\u001B[38;5;28;43mself\u001B[39;49m\u001B[38;5;241;43m.\u001B[39;49m\u001B[43mindex\u001B[49m\u001B[43m)\u001B[49m\n\u001B[1;32m   5254\u001B[0m arr \u001B[38;5;241m=\u001B[39m sanitize_array(value, \u001B[38;5;28mself\u001B[39m\u001B[38;5;241m.\u001B[39mindex, copy\u001B[38;5;241m=\u001B[39m\u001B[38;5;28;01mTrue\u001B[39;00m, allow_2d\u001B[38;5;241m=\u001B[39m\u001B[38;5;28;01mTrue\u001B[39;00m)\n\u001B[1;32m   5255\u001B[0m \u001B[38;5;28;01mif\u001B[39;00m (\n\u001B[1;32m   5256\u001B[0m     \u001B[38;5;28misinstance\u001B[39m(value, Index)\n\u001B[1;32m   5257\u001B[0m     \u001B[38;5;129;01mand\u001B[39;00m value\u001B[38;5;241m.\u001B[39mdtype \u001B[38;5;241m==\u001B[39m \u001B[38;5;124m\"\u001B[39m\u001B[38;5;124mobject\u001B[39m\u001B[38;5;124m\"\u001B[39m\n\u001B[0;32m   (...)\u001B[0m\n\u001B[1;32m   5260\u001B[0m     \u001B[38;5;66;03m# TODO: Remove kludge in sanitize_array for string mode when enforcing\u001B[39;00m\n\u001B[1;32m   5261\u001B[0m     \u001B[38;5;66;03m# this deprecation\u001B[39;00m\n",
      "File \u001B[0;32m~/miniconda3/envs/minutes_gpt/lib/python3.10/site-packages/pandas/core/common.py:573\u001B[0m, in \u001B[0;36mrequire_length_match\u001B[0;34m(data, index)\u001B[0m\n\u001B[1;32m    569\u001B[0m \u001B[38;5;250m\u001B[39m\u001B[38;5;124;03m\"\"\"\u001B[39;00m\n\u001B[1;32m    570\u001B[0m \u001B[38;5;124;03mCheck the length of data matches the length of the index.\u001B[39;00m\n\u001B[1;32m    571\u001B[0m \u001B[38;5;124;03m\"\"\"\u001B[39;00m\n\u001B[1;32m    572\u001B[0m \u001B[38;5;28;01mif\u001B[39;00m \u001B[38;5;28mlen\u001B[39m(data) \u001B[38;5;241m!=\u001B[39m \u001B[38;5;28mlen\u001B[39m(index):\n\u001B[0;32m--> 573\u001B[0m     \u001B[38;5;28;01mraise\u001B[39;00m \u001B[38;5;167;01mValueError\u001B[39;00m(\n\u001B[1;32m    574\u001B[0m         \u001B[38;5;124m\"\u001B[39m\u001B[38;5;124mLength of values \u001B[39m\u001B[38;5;124m\"\u001B[39m\n\u001B[1;32m    575\u001B[0m         \u001B[38;5;124mf\u001B[39m\u001B[38;5;124m\"\u001B[39m\u001B[38;5;124m(\u001B[39m\u001B[38;5;132;01m{\u001B[39;00m\u001B[38;5;28mlen\u001B[39m(data)\u001B[38;5;132;01m}\u001B[39;00m\u001B[38;5;124m) \u001B[39m\u001B[38;5;124m\"\u001B[39m\n\u001B[1;32m    576\u001B[0m         \u001B[38;5;124m\"\u001B[39m\u001B[38;5;124mdoes not match length of index \u001B[39m\u001B[38;5;124m\"\u001B[39m\n\u001B[1;32m    577\u001B[0m         \u001B[38;5;124mf\u001B[39m\u001B[38;5;124m\"\u001B[39m\u001B[38;5;124m(\u001B[39m\u001B[38;5;132;01m{\u001B[39;00m\u001B[38;5;28mlen\u001B[39m(index)\u001B[38;5;132;01m}\u001B[39;00m\u001B[38;5;124m)\u001B[39m\u001B[38;5;124m\"\u001B[39m\n\u001B[1;32m    578\u001B[0m     )\n",
      "\u001B[0;31mValueError\u001B[0m: Length of values (16) does not match length of index (17)"
     ]
    }
   ],
   "source": [
    "# FIRST RUN\n",
    "\n",
    "# start with first chunk (no frills, no labels)\n",
    "\n",
    "def label_aware(stride:int, number_of_chunks:int, combined_chunk_df):\n",
    "\tfirst_chunk_check = True\n",
    "\ttotal_label_list = []\n",
    "\tspeaker_labels = None\n",
    "\twhile first_chunk_check:\n",
    "\t\tfirst_chunk = combined_chunk_df['strided_chunk_0'].tolist()\n",
    "\t\tcleaned_first_chunk = [x for x in first_chunk if str(x) != 'nan']\n",
    "\t\tnumber_of_lines = len(cleaned_first_chunk)\n",
    "\t\t# first_chunk_formatted = '\\n'.join(cleaned_first_chunk)\n",
    "\t\t\n",
    "\t\tdiarization = client.chat.completions.create(\n",
    "\t\t\tmodel=DEPLOYMENT,\n",
    "\t\t\tmessages=[\n",
    "\t\t\t\t{\"role\": \"system\",\n",
    "\t\t\t\t \"content\": \"You are a linguistics expert with 100 years of experience. You will be given a transcription of a CONVERSATION between an unknown number of speakers, and you are to assign the Speaker label to each sentence PER line. I.e. Given the prompt, you will return me: ['Speaker 1', 'Speaker 2', 'Speaker 2']. There is a possibility that a speaker may speak for more than 1 line at time. You will DO YOUR JOB WELL.\"},\n",
    "\t\t\t\t{\"role\": \"user\",\n",
    "\t\t\t\t \"content\": f\"Here is the list of sentences: {cleaned_first_chunk}, where there are {number_of_lines} exchanges. You will diarize ALL the sentences in the list. You WILL ensure that you label ALL {number_of_lines} lines. JUST RETURN ME THE LIST.\"}\n",
    "\t\t\t],\n",
    "\t\t\tmax_tokens=2000,\n",
    "\t\t\tstream=False,\n",
    "\t\t\ttemperature=0.2,\n",
    "\t\t)\n",
    "\t\tspeaker_labels = diarization.choices[0].message.content\n",
    "\t\tfirst_chunk_check = False\n",
    "\t\t\n",
    "\t# convert labels into list\n",
    "\tspeaker_labels_converted = ast.literal_eval(speaker_labels)\n",
    "\t\n",
    "\t# store labels aside\n",
    "\ttotal_label_list.append(speaker_labels_converted)\n",
    "\t# print(f'Automated Diarization for Chunk 0: \\n{speaker_labels_converted}')\n",
    "\t\n",
    "\t# get stride info (transcription and label)\n",
    "\tdef get_stride_info(chunk_number:int,total_label_list:list):\n",
    "\t\tspeaker_labels_converted = total_label_list[-1]\n",
    "\t\tchunk_string = 'strided_chunk_'+str(chunk_number)\n",
    "\t\tstride_info_full = pd.DataFrame(combined_chunk_df[chunk_string].copy()).dropna()\n",
    "\t\t# print(stride_info_full)\n",
    "\t\tstride_info_full['speaker_labels'] = speaker_labels_converted\n",
    "\t\tstride_info = stride_info_full.copy().tail(stride).to_dict()\n",
    "\t\tlabelled_stride_info = {stride_info[chunk_string][k]: stride_info['speaker_labels'][k] for k in stride_info[chunk_string]}\n",
    "\t\treturn labelled_stride_info\n",
    "\t\n",
    "\tlabelled_stride_info = get_stride_info(0,total_label_list)\n",
    "\t# print(f'Stride for Chunk 0: \\n{labelled_stride_info}')\n",
    "\t\n",
    "\t\n",
    "\t\n",
    "\t\n",
    "\t# start loop from chunk i > 1 to x-2\n",
    "\t# grab stride \n",
    "\tfor j in range(1,number_of_chunks):\n",
    "\t\t# print(total_label_list)\n",
    "\t\t# get column string\n",
    "\t\tcolumn_name = 'strided_chunk_'+str(j)\n",
    "\t\tif j>1:\n",
    "\t\t\tlabelled_stride_info = get_stride_info(j,total_label_list)\n",
    "\t\t\t# print(labelled_stride_info)\n",
    "\t\t\n",
    "\t\tcurrent_chunk = combined_chunk_df[column_name].tolist()\n",
    "\t\tcleaned_current_chunk = [x for x in current_chunk if str(x) != 'nan']\n",
    "\t\t# cleaned_current_chunk = cleaned_current_chunk[stride:]\n",
    "\t\tnumber_of_lines = len(cleaned_current_chunk)\n",
    "\t\t\n",
    "\t\t\n",
    "\t\tprint(number_of_lines)\n",
    "\t\tprint(labelled_stride_info)\n",
    "\t\tprint(cleaned_current_chunk)\n",
    "\n",
    "\t\t# print(cleaned_current_chunk)\n",
    "\t\tdiarization = client.chat.completions.create(\n",
    "\t\t\tmodel=DEPLOYMENT,\n",
    "\t\t\tmessages=[\n",
    "\t\t\t\t{\"role\": \"system\",\n",
    "\t\t\t\t \"content\": \"You are a linguistics expert with 100 years of experience. You will be given a transcription of a CONVERSATION between an unknown number of speakers, and you are to assign the Speaker label to each sentence PER line. I.e. Given the prompt, you will return me: ['Speaker 1', 'Speaker 2', 'Speaker 2']. There is a possibility that a speaker may speak for more than 1 line at time. You will DO YOUR JOB WELL.\"},\n",
    "\t\t\t\t{\"role\": \"user\",\n",
    "\t\t\t\t \"content\": f\"Here are the previous exchanges RIGHT before this followed by their respective speaker(s):{labelled_stride_info}. Here is the list of sentences: {cleaned_current_chunk}. I MUST RECEIVE ALL {number_of_lines} exchanges\"}\n",
    "\t\t\t],\n",
    "\t\t\tmax_tokens=2500,\n",
    "\t\t\tstream=False,\n",
    "\t\t\ttemperature=0,\n",
    "\t\t)\n",
    "\t\tspeaker_labels = diarization.choices[0].message.content\n",
    "\n",
    "\t\tspeaker_labels_converted = ast.literal_eval(speaker_labels)\n",
    "\t\tprint(speaker_labels_converted)\n",
    "\t\ttotal_label_list.append(speaker_labels_converted)\n",
    "\t\t\n",
    "\t\t# print(len(total_label_list))\n",
    "\t\t# TODO: I'm getting cucked here because GPT always seems to return the list with the length always being -1 for some odd reason and i want to jump off a roof\n",
    "\t\t# TODO: But the basic implementation of the label-aware diarization seems to be working. the algorithm just needs some ironing out and then a shit ton of cleaning\n",
    "\t\t# TODO: making it OOP might be the way to go (if you have time)\n",
    "\t\n",
    "\t\n",
    "label_aware(STRIDE,NUMBER_OF_CHUNKS,combined_df)\n",
    "# speaker_labels"
   ],
   "metadata": {
    "collapsed": false,
    "ExecuteTime": {
     "end_time": "2024-03-25T15:50:27.804886Z",
     "start_time": "2024-03-25T15:50:20.259443Z"
    }
   },
   "id": "e4d4818576bc92f2",
   "execution_count": 165
  },
  {
   "cell_type": "markdown",
   "source": [
    "## Analysing Speaker Labels\n"
   ],
   "metadata": {
    "collapsed": false
   },
   "id": "eb2205670ac3b0a6"
  },
  {
   "cell_type": "code",
   "outputs": [
    {
     "name": "stdout",
     "output_type": "stream",
     "text": [
      "20\n"
     ]
    },
    {
     "data": {
      "text/plain": "                                      strided_chunk_0 speaker_labels\n0   or the caribor, when I get you up especially w...      Speaker 1\n1                                        Who said so?      Speaker 2\n2                            I said, oh very nice man      Speaker 1\n3                           Oh so do you drive there?      Speaker 2\n4                                No I walk over there      Speaker 1\n5                                        Really? Huh?      Speaker 2\n6                                   I walk over there      Speaker 1\n7                                    How do you walk?      Speaker 2\n8                        I can walk no problem at all      Speaker 1\n9                        How many kilometer you walk?      Speaker 2\n10                                   I can't remember      Speaker 1\n11             Because I walk until my legs don't fit      Speaker 2\n12                              So will you go there?      Speaker 1\n13                            Will you go back again?      Speaker 2\n14                  I don't think so, one season down      Speaker 1\n15                                               Why?      Speaker 2\n16                              Because it's too much      Speaker 1\n17                 So which is your next destination?      Speaker 2\n18        Maybe next one go to another part of Africa      Speaker 1\n19                                                 Oh      Speaker 2",
      "text/html": "<div>\n<style scoped>\n    .dataframe tbody tr th:only-of-type {\n        vertical-align: middle;\n    }\n\n    .dataframe tbody tr th {\n        vertical-align: top;\n    }\n\n    .dataframe thead th {\n        text-align: right;\n    }\n</style>\n<table border=\"1\" class=\"dataframe\">\n  <thead>\n    <tr style=\"text-align: right;\">\n      <th></th>\n      <th>strided_chunk_0</th>\n      <th>speaker_labels</th>\n    </tr>\n  </thead>\n  <tbody>\n    <tr>\n      <th>0</th>\n      <td>or the caribor, when I get you up especially w...</td>\n      <td>Speaker 1</td>\n    </tr>\n    <tr>\n      <th>1</th>\n      <td>Who said so?</td>\n      <td>Speaker 2</td>\n    </tr>\n    <tr>\n      <th>2</th>\n      <td>I said, oh very nice man</td>\n      <td>Speaker 1</td>\n    </tr>\n    <tr>\n      <th>3</th>\n      <td>Oh so do you drive there?</td>\n      <td>Speaker 2</td>\n    </tr>\n    <tr>\n      <th>4</th>\n      <td>No I walk over there</td>\n      <td>Speaker 1</td>\n    </tr>\n    <tr>\n      <th>5</th>\n      <td>Really? Huh?</td>\n      <td>Speaker 2</td>\n    </tr>\n    <tr>\n      <th>6</th>\n      <td>I walk over there</td>\n      <td>Speaker 1</td>\n    </tr>\n    <tr>\n      <th>7</th>\n      <td>How do you walk?</td>\n      <td>Speaker 2</td>\n    </tr>\n    <tr>\n      <th>8</th>\n      <td>I can walk no problem at all</td>\n      <td>Speaker 1</td>\n    </tr>\n    <tr>\n      <th>9</th>\n      <td>How many kilometer you walk?</td>\n      <td>Speaker 2</td>\n    </tr>\n    <tr>\n      <th>10</th>\n      <td>I can't remember</td>\n      <td>Speaker 1</td>\n    </tr>\n    <tr>\n      <th>11</th>\n      <td>Because I walk until my legs don't fit</td>\n      <td>Speaker 2</td>\n    </tr>\n    <tr>\n      <th>12</th>\n      <td>So will you go there?</td>\n      <td>Speaker 1</td>\n    </tr>\n    <tr>\n      <th>13</th>\n      <td>Will you go back again?</td>\n      <td>Speaker 2</td>\n    </tr>\n    <tr>\n      <th>14</th>\n      <td>I don't think so, one season down</td>\n      <td>Speaker 1</td>\n    </tr>\n    <tr>\n      <th>15</th>\n      <td>Why?</td>\n      <td>Speaker 2</td>\n    </tr>\n    <tr>\n      <th>16</th>\n      <td>Because it's too much</td>\n      <td>Speaker 1</td>\n    </tr>\n    <tr>\n      <th>17</th>\n      <td>So which is your next destination?</td>\n      <td>Speaker 2</td>\n    </tr>\n    <tr>\n      <th>18</th>\n      <td>Maybe next one go to another part of Africa</td>\n      <td>Speaker 1</td>\n    </tr>\n    <tr>\n      <th>19</th>\n      <td>Oh</td>\n      <td>Speaker 2</td>\n    </tr>\n  </tbody>\n</table>\n</div>"
     },
     "execution_count": 78,
     "metadata": {},
     "output_type": "execute_result"
    }
   ],
   "source": [],
   "metadata": {
    "collapsed": false,
    "ExecuteTime": {
     "end_time": "2024-03-25T14:13:10.077573Z",
     "start_time": "2024-03-25T14:13:10.068548Z"
    }
   },
   "id": "3ec3852deedb6a1f",
   "execution_count": 78
  },
  {
   "cell_type": "code",
   "execution_count": 85,
   "id": "368133982d338eea",
   "metadata": {
    "collapsed": false,
    "ExecuteTime": {
     "end_time": "2024-03-25T14:15:03.301946Z",
     "start_time": "2024-03-25T14:15:03.296637Z"
    }
   },
   "outputs": [
    {
     "data": {
      "text/plain": "18    Maybe next one go to another part of Africa\n19                                             Oh\nName: strided_chunk_0, dtype: object"
     },
     "execution_count": 85,
     "metadata": {},
     "output_type": "execute_result"
    }
   ],
   "source": []
  }
 ],
 "metadata": {
  "kernelspec": {
   "display_name": "Python 3 (ipykernel)",
   "language": "python",
   "name": "python3"
  },
  "language_info": {
   "codemirror_mode": {
    "name": "ipython",
    "version": 3
   },
   "file_extension": ".py",
   "mimetype": "text/x-python",
   "name": "python",
   "nbconvert_exporter": "python",
   "pygments_lexer": "ipython3",
   "version": "3.10.13"
  }
 },
 "nbformat": 4,
 "nbformat_minor": 5
}
